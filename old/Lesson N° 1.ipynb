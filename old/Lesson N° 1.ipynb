{
 "cells": [
  {
   "cell_type": "markdown",
   "metadata": {},
   "source": [
    "# Estructuras de control"
   ]
  },
  {
   "cell_type": "markdown",
   "metadata": {},
   "source": [
    "## if"
   ]
  },
  {
   "cell_type": "raw",
   "metadata": {},
   "source": [
    "if condition:\n",
    "    do something"
   ]
  },
  {
   "cell_type": "code",
   "execution_count": 5,
   "metadata": {},
   "outputs": [
    {
     "name": "stdout",
     "output_type": "stream",
     "text": [
      "a == 5\n"
     ]
    }
   ],
   "source": [
    "a = 5\n",
    "\n",
    "if a == 5: # toda estructura de control termina su linea con dos puntos \":\"\n",
    "    print(\"a == 5\")"
   ]
  },
  {
   "cell_type": "markdown",
   "metadata": {},
   "source": [
    "# if ... else"
   ]
  },
  {
   "cell_type": "markdown",
   "metadata": {},
   "source": [
    "if condition:\n",
    "    do something\n",
    "else:\n",
    "    do other thing"
   ]
  },
  {
   "cell_type": "code",
   "execution_count": 6,
   "metadata": {},
   "outputs": [
    {
     "name": "stdout",
     "output_type": "stream",
     "text": [
      "a != 5\n"
     ]
    }
   ],
   "source": [
    "a = 4\n",
    "\n",
    "if a == 5:\n",
    "    print(\"a == 5\")\n",
    "else:\n",
    "    print(\"a != 5\")"
   ]
  },
  {
   "cell_type": "markdown",
   "metadata": {},
   "source": [
    "# if ... [elif ... [else]]"
   ]
  },
  {
   "cell_type": "markdown",
   "metadata": {},
   "source": [
    "if condition_1:\n",
    "    do something\n",
    "elif condition_2:\n",
    "    do other thing\n",
    "elif condition_3:\n",
    "    do other thing\n",
    "    .\n",
    "    .\n",
    "    .\n",
    "else:\n",
    "    do other thing"
   ]
  },
  {
   "cell_type": "code",
   "execution_count": 10,
   "metadata": {},
   "outputs": [
    {
     "name": "stdout",
     "output_type": "stream",
     "text": [
      "a > 5\n"
     ]
    }
   ],
   "source": [
    "a = 6\n",
    "\n",
    "if a < 5:\n",
    "    print(\"a < 5\")\n",
    "elif a > 5:\n",
    "    print(\"a > 5\")\n",
    "else:\n",
    "    print(\"a == 5\")"
   ]
  },
  {
   "cell_type": "markdown",
   "metadata": {},
   "source": [
    "# For"
   ]
  },
  {
   "cell_type": "markdown",
   "metadata": {},
   "source": [
    "```\n",
    "C/C++\n",
    "\n",
    "for(int i=0; i < n; i++){\n",
    "    do somethin n times\n",
    "}\n",
    "\n",
    "Fortran 77\n",
    "\n",
    "    do lbl i = lower_limit,step,upper_limit\n",
    "      do something\n",
    "lbl continue\n",
    "\n",
    "Fortran 90,95, ... to day\n",
    "\n",
    "do lbl i = lower_limit,step,upper_limit\n",
    "    do something\n",
    "enddo\n",
    "\n",
    "*** Python :D ***\n",
    "\n",
    "for i in  iterable:\n",
    "    do repetitive shitty task!\n",
    "    \n",
    "iterable: listas, typlas, diccionarios, ... etc y todos los tipos derivados\n",
    "```"
   ]
  },
  {
   "cell_type": "code",
   "execution_count": 12,
   "metadata": {},
   "outputs": [
    {
     "name": "stdout",
     "output_type": "stream",
     "text": [
      "1\n",
      "2\n",
      "3\n",
      "4\n",
      "5\n"
     ]
    }
   ],
   "source": [
    "a = [1,2,3,4,5] # lista\n",
    "\n",
    "for i in a:\n",
    "    print(i)"
   ]
  },
  {
   "cell_type": "code",
   "execution_count": 13,
   "metadata": {},
   "outputs": [
    {
     "name": "stdout",
     "output_type": "stream",
     "text": [
      "1\n",
      "2\n",
      "3\n",
      "4\n",
      "5\n"
     ]
    }
   ],
   "source": [
    "a = (1,2,3,4,5) # tupla\n",
    "\n",
    "for i in a:\n",
    "    print(i)"
   ]
  },
  {
   "cell_type": "code",
   "execution_count": 17,
   "metadata": {},
   "outputs": [
    {
     "name": "stdout",
     "output_type": "stream",
     "text": [
      "1\n",
      "2\n",
      "3\n",
      "4\n",
      "5\n"
     ]
    }
   ],
   "source": [
    "a = {1:\"a\",2:\"b\",3:\"c\",4:\"d\",5:\"e\"} # diccionario\n",
    "\n",
    "for i in a:\n",
    "    print(i)"
   ]
  },
  {
   "cell_type": "code",
   "execution_count": 66,
   "metadata": {},
   "outputs": [
    {
     "name": "stdout",
     "output_type": "stream",
     "text": [
      "1\n",
      "2\n",
      "3\n",
      "4\n",
      "5\n"
     ]
    }
   ],
   "source": [
    "# range(lower_limit=0, upper_limit=int, step=1)\n",
    "# [lower_limit, ... , upper_limit - step]\n",
    "a = range(1,6,1) # range, iterable\n",
    "a = range(1,6) # range, iterable\n",
    "\n",
    "for i in a:\n",
    "    print(i)"
   ]
  },
  {
   "cell_type": "code",
   "execution_count": 67,
   "metadata": {},
   "outputs": [
    {
     "name": "stdout",
     "output_type": "stream",
     "text": [
      "(0, 2, 3)\n",
      "(1, 4, 6)\n",
      "(2, 6, 9)\n",
      "(3, 'b', 'd')\n"
     ]
    }
   ],
   "source": [
    "a = (0,1,2,3)\n",
    "b = [2,4,6,\"b\"]\n",
    "d = (3,6,9,\"d\")\n",
    "c = zip(a,b,d)\n",
    "\n",
    "for i in c:\n",
    "    print(i)"
   ]
  },
  {
   "cell_type": "code",
   "execution_count": 73,
   "metadata": {},
   "outputs": [
    {
     "name": "stdout",
     "output_type": "stream",
     "text": [
      "0 0.90637227072\n",
      "1 0.974619342585\n",
      "2 0.419014083128\n",
      "3 0.0239982911834\n",
      "4 0.884055791824\n",
      "5 0.568617669008\n",
      "6 0.521120619396\n",
      "7 0.561825353527\n",
      "8 0.400672343734\n",
      "9 0.307154453195\n"
     ]
    }
   ],
   "source": [
    "from numpy import random\n",
    "\n",
    "a = random.random(10) # a es un array de python\n",
    "\n",
    "for i,item in enumerate(a):\n",
    "    print(i, item)"
   ]
  },
  {
   "cell_type": "code",
   "execution_count": 71,
   "metadata": {},
   "outputs": [
    {
     "data": {
      "text/plain": [
       "[(0, 0.81228342611371018),\n",
       " (1, 0.081544613147756739),\n",
       " (2, 0.54324960281253343),\n",
       " (3, 0.79231770952333624),\n",
       " (4, 0.78962190684052092),\n",
       " (5, 0.72448997896415857),\n",
       " (6, 0.60619213308567077),\n",
       " (7, 0.77133661854736513),\n",
       " (8, 0.40262794613431219),\n",
       " (9, 0.7125020635745708)]"
      ]
     },
     "execution_count": 71,
     "metadata": {},
     "output_type": "execute_result"
    }
   ],
   "source": [
    "a = random.random(10)\n",
    "b = enumerate(a)\n",
    "list(b)"
   ]
  },
  {
   "cell_type": "code",
   "execution_count": 85,
   "metadata": {},
   "outputs": [
    {
     "name": "stdout",
     "output_type": "stream",
     "text": [
      "0.593915728937 0\n",
      "0.0914998236623 1\n",
      "0.728588229433 2\n",
      "0.606725033271 6\n",
      "0.768592087621 8\n",
      "0.576334493066 4\n",
      "0.693078793494 7\n",
      "0.774956743849 5\n",
      "0.177185365445 3\n",
      "0.574846486432 9\n"
     ]
    }
   ],
   "source": [
    "a = random.random(10) # a es un array de python\n",
    "b = range(11)\n",
    "c = zip(a,b)\n",
    "d = dict(c)\n",
    "\n",
    "for key, value in d.items():\n",
    "    print(key, value)"
   ]
  },
  {
   "cell_type": "code",
   "execution_count": 10,
   "metadata": {},
   "outputs": [
    {
     "name": "stdout",
     "output_type": "stream",
     "text": [
      "<class 'dict'> is iterabable? True\n",
      "<class 'list'> is iterabable? True\n",
      "<class 'tuple'> is iterabable? True\n",
      "<class 'set'> is iterabable? True\n",
      "<class 'numpy.ndarray'> is iterabable? True\n",
      "<class 'int'> is iterabable? False\n"
     ]
    }
   ],
   "source": [
    "import numpy\n",
    "\n",
    "# Para saber el objeto es iterable debe tener el atributo __iter__\n",
    "\n",
    "types = [dict, list, tuple, set, numpy.ndarray, int]\n",
    "\n",
    "for t in types:\n",
    "    print(\"{0:} is iterabable? {1:}\".format(t, hasattr(t,'__iter__')))"
   ]
  },
  {
   "cell_type": "code",
   "execution_count": 11,
   "metadata": {
    "scrolled": false
   },
   "outputs": [
    {
     "name": "stdout",
     "output_type": "stream",
     "text": [
      "330ed073-b638-45bd-8b28-b01bb5c63ab6\n",
      "a70700f9-6331-439e-80c4-343203cad42a\n",
      "54fa8a43-1dcf-44a5-8c49-cb64152b3536\n",
      "c08f68a3-16ed-4d0d-9010-b8d4bc4ad54e\n",
      "8d32a66c-43e8-4b0d-b0e6-7cad9bfcd5e2\n",
      "43546f4f-a99d-4e26-bb7a-eb7b0993a91b\n",
      "bd4bc40d-f467-4414-b7fc-79e4163352c6\n",
      "56c88ab5-8d1d-49c4-8d5b-de6a49d8487c\n",
      "c1cdd1e8-7fcf-45d9-8ee3-1da616c3b5b2\n",
      "2fd35b58-d6ef-49ce-b97c-d41dbc4232f6\n"
     ]
    }
   ],
   "source": [
    "import uuid\n",
    "\n",
    "a = [uuid.uuid4() for i in range(10)] # lista por comprension\n",
    "\n",
    "for i in a:\n",
    "    print(i)"
   ]
  },
  {
   "cell_type": "code",
   "execution_count": 12,
   "metadata": {},
   "outputs": [
    {
     "data": {
      "text/plain": [
       "list"
      ]
     },
     "execution_count": 12,
     "metadata": {},
     "output_type": "execute_result"
    }
   ],
   "source": [
    "type(a) # para verificar el tipo de una variable"
   ]
  },
  {
   "cell_type": "markdown",
   "metadata": {
    "collapsed": true
   },
   "source": [
    "## For ... else"
   ]
  },
  {
   "cell_type": "raw",
   "metadata": {},
   "source": [
    "for i in terable:\n",
    "    do some repetitive task with condition!! -.-!!\n",
    "    if condition\n",
    "        break\n",
    "else:\n",
    "    something to do if the for is no break"
   ]
  },
  {
   "cell_type": "code",
   "execution_count": 14,
   "metadata": {},
   "outputs": [
    {
     "name": "stdout",
     "output_type": "stream",
     "text": [
      "2 is a prime number\n",
      "3 is a prime number\n",
      "4 equals to 2 * 2.0\n",
      "5 is a prime number\n",
      "6 equals to 2 * 3.0\n",
      "7 is a prime number\n",
      "8 equals to 2 * 4.0\n",
      "9 equals to 3 * 3.0\n"
     ]
    }
   ],
   "source": [
    "for n in range(2,10):\n",
    "    for x in range (2,n):\n",
    "        if n % x == 0:\n",
    "            print(n, \"equals to\", x, \"*\", n/x)\n",
    "            break\n",
    "    else:\n",
    "        print(n, \"is a prime number\")"
   ]
  },
  {
   "cell_type": "code",
   "execution_count": 16,
   "metadata": {},
   "outputs": [
    {
     "name": "stdout",
     "output_type": "stream",
     "text": [
      "0\n",
      "1\n",
      "2\n",
      "3\n",
      "4\n",
      "shot him down!!\n"
     ]
    }
   ],
   "source": [
    "for i in range(5):\n",
    "    print(i)\n",
    "else:\n",
    "    print(\"shot him down!!\")"
   ]
  },
  {
   "cell_type": "markdown",
   "metadata": {},
   "source": [
    "## While"
   ]
  },
  {
   "cell_type": "markdown",
   "metadata": {},
   "source": [
    "```\n",
    "while condition:\n",
    "    repetitive task until condition becomes false\n",
    "```"
   ]
  },
  {
   "cell_type": "code",
   "execution_count": 18,
   "metadata": {},
   "outputs": [
    {
     "name": "stdout",
     "output_type": "stream",
     "text": [
      "please, enter 'hello': pollas en vinagre\n",
      "please, enter 'hello': pollas en vinagreta?\n",
      "please, enter 'hello': holibolo?\n",
      "please, enter 'hello': hola\n",
      "please, enter 'hello': hello\n"
     ]
    }
   ],
   "source": [
    "n = input(\"please, enter 'hello': \")\n",
    "\n",
    "while n.strip() != 'hello':\n",
    "    n = input(\"please, enter 'hello': \")"
   ]
  },
  {
   "cell_type": "code",
   "execution_count": 20,
   "metadata": {},
   "outputs": [
    {
     "name": "stdout",
     "output_type": "stream",
     "text": [
      "please, enter 'hello': sdgqasd\n",
      "please, enter 'hello': asdfas\n",
      "please, enter 'hello': asdfas\n",
      "please, enter 'hello': asdfas\n",
      "please, enter 'hello': hola\n",
      "please, enter 'hello': hello\n"
     ]
    }
   ],
   "source": [
    "while True:\n",
    "    n = input(\"please, enter 'hello': \")\n",
    "\n",
    "    if n.strip() == 'hello':\n",
    "        break\n",
    "        \n",
    "# = : asignación\n",
    "# == : comparación"
   ]
  },
  {
   "cell_type": "code",
   "execution_count": 25,
   "metadata": {},
   "outputs": [],
   "source": [
    "from numpy import random\n",
    "\n",
    "with open(\"data.txt\",\"w\") as f:\n",
    "    a = random.random(10)\n",
    "    for i in a:\n",
    "        f.write(str(i))"
   ]
  },
  {
   "cell_type": "code",
   "execution_count": 27,
   "metadata": {
    "collapsed": true
   },
   "outputs": [],
   "source": [
    "from numpy import random\n",
    "\n",
    "f = open(\"data2.txt\",\"w\")\n",
    "\n",
    "a = random.random(10)\n",
    "for i in a:\n",
    "    f.write(str(i))"
   ]
  },
  {
   "cell_type": "code",
   "execution_count": 36,
   "metadata": {},
   "outputs": [
    {
     "name": "stdout",
     "output_type": "stream",
     "text": [
      "DATE\twinddir(°)WIND (m/s)\n",
      " 1010000 216   2.397\n",
      " 1010100  17   1.224\n",
      " 1010200 357   1.581\n",
      " 1010300 255   1.173\n",
      " 1010400 225   3.009\n",
      " 1010500 180   2.244\n",
      " 1010600 230   2.601\n",
      " 1010700 154   1.071\n",
      " 1010800 199   1.887\n",
      " 1010900 220   1.173\n",
      " 1011000 257   1.377\n",
      " 1011100 288   2.040\n",
      " 1011200 300   3.111\n",
      " 1011300 223   4.029\n",
      " 1011400 213   6.732\n",
      " 1011500 201   8.466\n",
      " 1011600 208   6.834\n",
      " 1011700 211   6.171\n",
      " 1011800 228   5.916\n",
      " 1011900 223   4.182\n",
      " 1012000 243   3.162\n",
      " 1012100 229   2.499\n",
      " 1012200 231   3.111\n",
      " 1012300 224   4.743\n",
      " 1020000 225   4.896\n",
      " 1020100 236   2.295\n",
      " 1020200 250   1.785\n",
      " 1020300 264   0.306\n",
      " 1020400 264   0.918\n",
      " 1020500 252   1.530\n",
      " 1020600 258   1.887\n",
      " 1020700 256   1.275\n",
      " 1020800 260   0.918\n",
      " 1020900 320   0.969\n",
      " 1021000 346   2.958\n",
      " 1021100 335   3.366\n",
      " 1021200 333   3.570\n",
      " 1021300 332   3.672\n",
      " 1021400 239   1.683\n",
      " 1021500 207   5.559\n",
      " 1021600 213   6.171\n",
      " 1021700 199   5.712\n",
      " 1021800 213   6.375\n",
      " 1021900 221   5.712\n",
      " 1022000 232   3.825\n",
      " 1022100 234   3.417\n",
      " 1022200 244   2.448\n",
      " 1022300 262   1.479\n",
      " 1030000 256   0.153\n",
      " 1030100 301   1.020\n",
      " 1030200 319   2.142\n",
      " 1030300 325   2.601\n",
      " 1030400 320   1.836\n",
      " 1030500 311   2.091\n",
      " 1030600 322   0.816\n",
      " 1030700  13   3.162\n",
      " 1030800  26   2.907\n",
      " 1030900 338   3.162\n",
      " 1031000 322   4.029\n",
      " 1031100 314   3.927\n",
      " 1031200 310   4.029\n",
      " 1031300 317   6.477\n",
      " 1031400 333   6.069\n",
      " 1031500 318   5.508\n",
      " 1031600 330   5.202\n",
      " 1031700 321   4.947\n",
      " 1031800 214   4.080\n",
      " 1031900 219   5.049\n",
      " 1032000 221   4.488\n",
      " 1032100 237   3.774\n",
      " 1032200 267   2.091\n",
      " 1032300 281   1.683\n",
      " 1040000 229   2.805\n",
      " 1040100 235   2.193\n",
      " 1040200 235   2.142\n",
      " 1040300 261   0.663\n",
      " 1040400 266   0.102\n",
      " 1040500 276   0.561\n",
      " 1040600 272   0.102\n",
      " 1040700 268   0.000\n",
      " 1040800  24   0.459\n",
      " 1040900 323   1.734\n",
      " 1041000 307   1.887\n",
      " 1041100 307   2.754\n",
      " 1041200 314   4.539\n",
      " 1041300 304   5.610\n",
      " 1041400 215   3.315\n",
      " 1041500 193   4.845\n",
      " 1041600 187   7.038\n",
      " 1041700 186   6.375\n",
      " 1041800 186   7.293\n",
      " 1041900 213   6.273\n",
      " 1042000 220   4.284\n",
      " 1042100 227   4.845\n",
      " 1042200 223   3.723\n",
      " 1042300 234   2.142\n",
      " 1050000 236   2.652\n",
      " 1050100 242   1.479\n",
      " 1050200 255   0.969\n",
      " 1050300 213   1.530\n",
      " 1050400 203   3.009\n",
      " 1050500 191   4.794\n",
      " 1050600 218   3.162\n",
      " 1050700 213   2.907\n",
      " 1050800 232   2.397\n",
      " 1050900 211   1.530\n",
      " 1051000 228   0.459\n",
      " 1051100 267   2.550\n",
      " 1051200 318   2.805\n",
      " 1051300 304   4.896\n",
      " 1051400 215   4.488\n",
      " 1051500 190   7.497\n",
      " 1051600 197   7.293\n",
      " 1051700 198   5.712\n",
      " 1051800 243   2.550\n",
      " 1051900 217   2.856\n",
      " 1052000 234   3.009\n",
      " 1052100 208   3.468\n",
      " 1052200 242   1.581\n",
      " 1052300 218   2.397\n",
      " 1060000 209   2.091\n",
      " 1060100 228   2.295\n",
      " 1060200 224   2.244\n",
      " 1060300 218   2.346\n",
      " 1060400 244   1.275\n",
      " 1060500 228   2.142\n",
      " 1060600 219   2.193\n",
      " 1060700 215   1.785\n",
      " 1060800 252   0.867\n",
      " 1060900 294   1.071\n",
      " 1061000 321   1.938\n",
      " 1061100 319   4.335\n",
      " 1061200 297   5.355\n",
      " 1061300 208   6.222\n",
      " 1061400 225   5.916\n",
      " 1061500 216   7.497\n",
      " 1061600 210   8.058\n",
      " 1061700 207   8.313\n",
      " 1061800 217   7.599\n",
      " 1061900 210   6.120\n",
      " 1062000 219   6.120\n",
      " 1062100 224   5.100\n",
      " 1062200 226   4.539\n",
      " 1062300 238   3.315\n",
      " 1070000  27   0.102\n",
      " 1070100 237   2.244\n",
      " 1070200 247   3.927\n",
      " 1070300 240   4.641\n",
      " 1070400 244   3.519\n",
      " 1070500 256   3.519\n",
      " 1070600 237   1.581\n",
      " 1070700 237   0.918\n",
      " 1070800   3   1.479\n",
      " 1070900 331   1.836\n",
      " 1071000 307   1.734\n",
      " 1071100 289   2.448\n",
      " 1071200 315   3.876\n",
      " 1071300 313   4.233\n",
      " 1071400 297   2.448\n",
      " 1071500 315   3.264\n",
      " 1071600 325   4.386\n",
      " 1071700 311   2.958\n",
      " 1071800 292   3.774\n",
      " 1071900 234   3.621\n",
      " 1072000 260   1.785\n",
      " 1072100 279   1.530\n",
      " 1072200 287   1.887\n",
      " 1072300 330   1.479\n",
      " 1080000 357   0.816\n",
      " 1080100   1   1.377\n",
      " 1080200  26   2.142\n",
      " 1080300  18   1.122\n",
      " 1080400 333   1.275\n",
      " 1080500 341   1.377\n",
      " 1080600 327   0.612\n",
      " 1080700 348   2.907\n",
      " 1080800  16   1.734\n",
      " 1080900  17   0.204\n",
      " 1081000 284   1.938\n",
      " 1081100 294   2.346\n",
      " 1081200 311   6.018\n",
      " 1081300 310   5.610\n",
      " 1081400 204   5.661\n",
      " 1081500 200   6.222\n",
      " 1081600 217   4.845\n",
      " 1081700 221   7.752\n",
      " 1081800 224   7.089\n",
      " 1081900 223   8.619\n",
      " 1082000 226   8.874\n",
      " 1082100 222   7.599\n",
      " 1082200 214   6.324\n",
      " 1082300 225   5.763\n",
      " 1090000 226   4.335\n",
      " 1090100 163   1.224\n",
      " 1090200 166   0.663\n",
      " 1090300  36   2.550\n",
      " 1090400 236   1.326\n",
      " 1090500 222   2.907\n",
      " 1090600 234   2.499\n",
      " 1090700 237   2.244\n",
      " 1090800 183   1.122\n",
      " 1090900 234   1.530\n",
      " 1091000 269   1.836\n",
      " 1091100 330   3.927\n",
      " 1091200 323   5.049\n",
      " 1091300 323   6.069\n",
      " 1091400 329   6.120\n",
      " 1091500 317   6.783\n",
      " 1091600 223   3.672\n",
      " 1091700 216   4.947\n",
      " 1091800 199   7.803\n",
      " 1091900 215   8.262\n",
      " 1092000 199   8.823\n",
      " 1092100 234   6.120\n",
      " 1092200 218   6.018\n",
      " 1092300 204   4.539\n",
      " 1100100 214   4.998\n",
      " 1100200 209   5.049\n",
      " 1100300 222   5.253\n",
      " 1100400 211   6.426\n",
      " 1100500 227   5.304\n",
      " 1100600 225   5.406\n",
      " 1100700 212   4.386\n",
      " 1100800 214   4.284\n",
      " 1100900 215   4.029\n",
      " 1101000 229   2.856\n",
      " 1101100 252   1.938\n",
      " 1101200 316   4.386\n",
      " 1101300 312   5.355\n",
      " 1101400 302   2.193\n",
      " 1101500 223   5.151\n",
      " 1101600 216   6.375\n",
      " 1101700 210   7.395\n",
      " 1101800 209   6.783\n",
      " 1101900 226   6.171\n",
      " 1102000 237   5.355\n",
      " 1102100 239   6.783\n",
      " 1102200 233   6.069\n",
      " 1102300 232   5.253\n",
      " 1102400 194   4.998\n",
      " 1110000  65   2.601\n",
      " 1110100  36   1.224\n",
      " 1110200  45   1.224\n",
      " 1110300  17   3.060\n",
      " 1110400 271   2.040\n",
      " 1110500 257   3.009\n",
      " 1110600 239   2.499\n",
      " 1110700 352   0.663\n",
      " 1110800  34   1.887\n",
      " 1110900 355   1.836\n",
      " 1111000 346   3.927\n",
      " 1111100 327   4.233\n",
      " 1111200 316   3.876\n",
      " 1111300 317   4.896\n",
      " 1111400 307   4.845\n",
      " 1111500 303   5.151\n",
      " 1111600 285   3.570\n",
      " 1111700 222   3.876\n",
      " 1111800 220   4.896\n",
      " 1111900 212   4.692\n",
      " 1112000 232   4.590\n",
      " 1112100 238   3.468\n",
      " 1112200 241   2.601\n",
      " 1112300 253   1.377\n",
      " 1120000 282   0.153\n",
      " 1120100 237   2.805\n",
      " 1120200 230   0.255\n",
      " 1120300 264   1.020\n",
      " 1120400 242   2.703\n",
      " 1120500 260   1.224\n",
      " 1120600 264   0.969\n",
      " 1120700  46   1.479\n",
      " 1120800  34   1.071\n",
      " 1120900 307   2.805\n",
      " 1121000 327   3.264\n",
      " 1121100 322   4.131\n",
      " 1121200 323   5.049\n",
      " 1121300 308   6.069\n",
      " 1121400 212   5.049\n",
      " 1121500 219   5.763\n",
      " 1121600 213   6.171\n",
      " 1121700 211   6.171\n",
      " 1121800 232   6.834\n",
      " 1121900 233   7.497\n",
      " 1122000 227   7.650\n",
      " 1122100 222   7.089\n",
      " 1122200 220   6.171\n",
      " 1122300 220   5.304\n",
      " 1130000 243   3.264\n",
      " 1130100 232   3.111\n",
      " 1130200 227   3.672\n",
      " 1130300 227   3.774\n",
      " 1130400 123   1.122\n",
      " 1130500 163   2.193\n",
      " 1130600 141   1.581\n",
      " 1130700 144   1.938\n",
      " 1130800 192   1.581\n",
      " 1130900 266   0.918\n",
      " 1131000 282   1.377\n",
      " 1131100 317   4.488\n",
      " 1131200 311   4.794\n",
      " 1131300 318   6.018\n",
      " 1131400 306   5.865\n",
      " 1131500 255   3.060\n",
      " 1131600 211   5.661\n",
      " 1131700 210   7.956\n",
      " 1131800 229   8.517\n",
      " 1131900 230   8.109\n",
      " 1132000 225   7.752\n",
      " 1132100 227   7.905\n",
      " 1132200 225   7.395\n",
      " 1132300 222   5.712\n",
      " 1140000 224   3.774\n",
      " 1140100 220   2.856\n",
      " 1140200 159   1.581\n",
      " 1140300 214   3.723\n",
      " 1140400 209   3.162\n",
      " 1140500 219   4.131\n",
      " 1140600 216   3.927\n",
      " 1140700 201   2.346\n",
      " 1140800 231   1.632\n",
      " 1140900 205   2.397\n",
      " 1141000 228   3.825\n",
      " 1141100 219   4.845\n",
      " 1141200 220   5.406\n",
      " 1141300 232   5.457\n",
      " 1141400 218   6.528\n",
      " 1141500 218   7.803\n",
      " 1141600 222   6.732\n",
      " 1141700 220   8.109\n",
      " 1141800 222   8.670\n",
      " 1141900 221   8.568\n",
      " 1142000 218   8.568\n",
      " 1142100 226   5.814\n",
      " 1142200 215   6.171\n",
      " 1142300 214   4.794\n",
      " 1150000 212   4.437\n",
      " 1150100 220   3.978\n",
      " 1150200 216   3.876\n",
      " 1150300 224   4.437\n",
      " 1150400 229   3.978\n",
      " 1150500 222   2.856\n",
      " 1150600 224   1.734\n",
      " 1150700  73   0.714\n",
      " 1150800 267   0.102\n",
      " 1150900 270   0.714\n",
      " 1151000 327   3.315\n",
      " 1151100 336   3.825\n",
      " 1151200 332   4.743\n",
      " 1151300 329   4.845\n",
      " 1151400 326   5.202\n",
      " 1151500 322   5.253\n",
      " 1151600 315   5.457\n",
      " 1151700 312   2.652\n",
      " 1151800 202   6.426\n",
      " 1151900 225   6.783\n",
      " 1152000 227   5.865\n",
      " 1152100 230   4.590\n",
      " 1152200 243   3.519\n",
      " 1152300 246   2.652\n",
      " 1160000 249   1.632\n",
      " 1160100 239   0.255\n",
      " 1160200 249   1.479\n",
      " 1160300 241   2.142\n",
      " 1160400 236   3.111\n",
      " 1160500 255   1.632\n",
      " 1160600 248   0.408\n",
      " 1160700 139   1.071\n",
      " 1160800 176   1.020\n",
      " 1160900 256   1.071\n",
      " 1161000 296   1.377\n",
      " 1161100 324   3.519\n",
      " 1161200 319   4.590\n",
      " 1161300 315   5.763\n",
      " 1161400 298   3.468\n",
      " 1161500 232   5.967\n",
      " 1161600 211   8.568\n",
      " 1161700 217   8.415\n",
      " 1161800 205   9.282\n",
      " 1161900 206   8.364\n",
      " 1162000 231   6.375\n",
      " 1162100 231   7.191\n",
      " 1162200 223   7.293\n",
      " 1162300 219   6.630\n",
      " 1170000 211   5.712\n",
      " 1170100 209   6.324\n",
      " 1170200 217   5.304\n",
      " 1170300 216   4.947\n",
      " 1170400 217   3.315\n",
      " 1170500 211   4.641\n",
      " 1170600 212   4.692\n",
      " 1170700 220   4.029\n",
      " 1170800 214   4.845\n",
      " 1170900 212   4.692\n",
      " 1171000 226   4.080\n",
      " 1171100 211   4.998\n",
      " 1171200 221   6.528\n",
      " 1171300 224   6.936\n",
      " 1171400 207   9.078\n",
      " 1171500 205   8.976\n",
      " 1171600 212   8.007\n",
      " 1171700 209   8.517\n",
      " 1171800 217   7.803\n",
      " 1171900 226   6.222\n",
      " 1172000 232   7.089\n",
      " 1172100 231   7.242\n",
      " 1172200 236   6.120\n",
      " 1172300 225   5.355\n",
      " 1180000 222   4.641\n",
      " 1180100 231   3.723\n",
      " 1180200 216   3.672\n",
      " 1180300 227   2.856\n",
      " 1180400 221   3.213\n",
      " 1180500 225   2.652\n",
      " 1180600 232   2.142\n",
      " 1180700 217   1.530\n",
      " 1180800 276   0.306\n",
      " 1180900 231   2.244\n",
      " 1181000 271   1.224\n",
      " 1181100 314   2.703\n",
      " 1181200 220   4.386\n",
      " 1181300 208   4.998\n",
      " 1181400 219   7.140\n",
      " 1181500 213   7.854\n",
      " 1181600 220   7.395\n",
      " 1181700 212   8.313\n",
      " 1181800 216   7.242\n",
      " 1181900 227   7.242\n",
      " 1182000 228   7.854\n",
      " 1182100 229   7.293\n",
      " 1182200 226   6.426\n",
      " 1182300 220   4.845\n",
      " 1190000 219   2.856\n",
      " 1190100 212   2.346\n",
      " 1190200 198   1.428\n",
      " 1190300 210   2.499\n",
      " 1190400 208   2.346\n",
      " 1190500 213   1.428\n",
      " 1190600 188   1.734\n",
      " 1190700 223   1.989\n",
      " 1190800 188   1.275\n",
      " 1190900 254   1.581\n",
      " 1191000 255   0.408\n",
      " 1191100 320   2.601\n",
      " 1191200 320   3.417\n",
      " 1191300 319   3.774\n",
      " 1191400 221   4.335\n",
      " 1191500 223   5.253\n",
      " 1191600 220   6.069\n",
      " 1191700 223   7.293\n",
      " 1191800 226   6.477\n",
      " 1191900 230   5.508\n",
      " 1192000 224   4.692\n",
      " 1200000 214   4.335\n",
      " 1200100 230   2.295\n",
      " 1200200 212   1.989\n",
      " 1200300 228   0.612\n",
      " 1200400 189   1.122\n",
      " 1200500 217   1.275\n",
      " 1200600 229   1.071\n",
      " 1200700 185   1.530\n",
      " 1200800 239   1.938\n",
      " 1200900 245   1.071\n",
      " 1201000 326   2.193\n",
      " 1201100 324   3.213\n",
      " 1201200 321   2.448\n",
      " 1201300 340   3.162\n",
      " 1201400 288   1.632\n",
      " 1201500 186   4.794\n",
      " 1201600 220   3.621\n",
      " 1201700 215   3.417\n",
      " 1201800 202   2.142\n",
      " 1201900 232   3.111\n",
      " 1202000 271   0.969\n",
      " 1202100 232   3.009\n",
      " 1202200 225   1.326\n",
      " 1202300 200   2.346\n",
      "\n"
     ]
    }
   ],
   "source": [
    "fileName = \"wind.txt\"\n",
    "fileHandler = open(fileName)\n",
    "    \n",
    "fileContent = fileHandler.read()\n",
    "\n",
    "for line in fileContent.split(\"\\n\"):\n",
    "    print(line)\n",
    "\n",
    "fileHandler.close()"
   ]
  },
  {
   "cell_type": "code",
   "execution_count": 128,
   "metadata": {
    "scrolled": false
   },
   "outputs": [
    {
     "name": "stdout",
     "output_type": "stream",
     "text": [
      "unconverted data remains: 0\n",
      "skipping data\n",
      "['1102400', '194', '4.998']\n"
     ]
    },
    {
     "name": "stderr",
     "output_type": "stream",
     "text": [
      "/opt/anaconda/lib/python3.4/site-packages/matplotlib/collections.py:590: FutureWarning: elementwise comparison failed; returning scalar instead, but in the future will perform elementwise comparison\n",
      "  if self._edgecolors == str('face'):\n"
     ]
    }
   ],
   "source": [
    "import datetime\n",
    "import pylab\n",
    "import pandas\n",
    "\n",
    "fileName = \"wind.txt\"\n",
    "fileHandler = open(fileName)\n",
    "\n",
    "fileData = {\n",
    "    \"date\":[],\n",
    "    \"direction\":[],\n",
    "    \"magnitude\":[],\n",
    "}\n",
    "\n",
    "for i,line in enumerate(fileHandler):\n",
    "    if i != 0:\n",
    "        try:\n",
    "            line = line.split()\n",
    "            \n",
    "            date = datetime.datetime.strptime(\"0{0:}\".format(line[0]),\"%m%d%H%M\")\n",
    "            direction = float(line[1])\n",
    "            direction = int(direction  + 180) % 360\n",
    "            magnitude = float(line[2])\n",
    "            \n",
    "            fileData[\"date\"].append(date)\n",
    "            fileData[\"direction\"].append(direction)\n",
    "            fileData[\"magnitude\"].append(magnitude)\n",
    "            \n",
    "        except Exception as e:\n",
    "            print(e)\n",
    "            print(\"skipping data\")\n",
    "            print(line)\n",
    "\n",
    "fileHandler.close()\n",
    "\n",
    "fileData[\"direction\"] = numpy.asarray(fileData[\"direction\"])\n",
    "fileData[\"magnitude\"] = numpy.asarray(fileData[\"magnitude\"])\n",
    "\n",
    "# Axs = pylab.subplot(111, projection='polar')\n",
    "# bar = Axs.bar(fileData[\"direction\"], fileData[\"magnitude\"], )\n",
    "\n",
    "df = pandas.DataFrame(\n",
    "    data={\n",
    "        \"mag\":fileData[\"magnitude\"],\n",
    "        \"dir\":fileData[\"direction\"]\n",
    "    },\n",
    "    index=fileData[\"date\"]\n",
    ")\n",
    "\n",
    "\n",
    "Axs = pylab.subplot(111, projection='polar')\n",
    "Axs.quiver(\n",
    "    0,0,\n",
    "    (fileData[\"magnitude\"]/max(fileData[\"magnitude\"]))*numpy.cos(numpy.asarray(fileData[\"direction\"])*numpy.pi/180.0),\n",
    "    (fileData[\"magnitude\"]/max(fileData[\"magnitude\"]))*numpy.sin(numpy.asarray(fileData[\"direction\"])*numpy.pi/180.0),\n",
    "    fileData[\"magnitude\"],\n",
    "    units=\"xy\",\n",
    "    headwidth=2,\n",
    "    width=0.005,\n",
    "    scale=1,\n",
    "    scale_units=\"width\"\n",
    ")\n",
    "# df.hist(column=\"dir\")\n",
    "# df.hist(column=\"mag\")\n",
    "\n",
    "\n",
    "pylab.show()"
   ]
  },
  {
   "cell_type": "code",
   "execution_count": 105,
   "metadata": {},
   "outputs": [
    {
     "data": {
      "text/plain": [
       "0.017453292519943295"
      ]
     },
     "execution_count": 105,
     "metadata": {},
     "output_type": "execute_result"
    }
   ],
   "source": [
    "numpy.pi/180.0"
   ]
  },
  {
   "cell_type": "code",
   "execution_count": 1,
   "metadata": {},
   "outputs": [
    {
     "name": "stdout",
     "output_type": "stream",
     "text": [
      "1\n",
      "2\n",
      "3\n",
      "4\n",
      "5\n"
     ]
    }
   ],
   "source": [
    "x = 0\n",
    "\n",
    "while x < 5:\n",
    "    x = x + 1\n",
    "    print(x)"
   ]
  },
  {
   "cell_type": "code",
   "execution_count": 2,
   "metadata": {},
   "outputs": [
    {
     "name": "stdout",
     "output_type": "stream",
     "text": [
      "The Zen of Python, by Tim Peters\n",
      "\n",
      "Beautiful is better than ugly.\n",
      "Explicit is better than implicit.\n",
      "Simple is better than complex.\n",
      "Complex is better than complicated.\n",
      "Flat is better than nested.\n",
      "Sparse is better than dense.\n",
      "Readability counts.\n",
      "Special cases aren't special enough to break the rules.\n",
      "Although practicality beats purity.\n",
      "Errors should never pass silently.\n",
      "Unless explicitly silenced.\n",
      "In the face of ambiguity, refuse the temptation to guess.\n",
      "There should be one-- and preferably only one --obvious way to do it.\n",
      "Although that way may not be obvious at first unless you're Dutch.\n",
      "Now is better than never.\n",
      "Although never is often better than *right* now.\n",
      "If the implementation is hard to explain, it's a bad idea.\n",
      "If the implementation is easy to explain, it may be a good idea.\n",
      "Namespaces are one honking great idea -- let's do more of those!\n"
     ]
    }
   ],
   "source": [
    "import this"
   ]
  },
  {
   "cell_type": "code",
   "execution_count": 4,
   "metadata": {},
   "outputs": [
    {
     "ename": "ModuleNotFoundError",
     "evalue": "No module named 'Iterable'",
     "output_type": "error",
     "traceback": [
      "\u001b[0;31m---------------------------------------------------------------------------\u001b[0m",
      "\u001b[0;31mModuleNotFoundError\u001b[0m                       Traceback (most recent call last)",
      "\u001b[0;32m<ipython-input-4-f7664f3e43d9>\u001b[0m in \u001b[0;36m<module>\u001b[0;34m()\u001b[0m\n\u001b[0;32m----> 1\u001b[0;31m \u001b[0;32mimport\u001b[0m \u001b[0mIterable\u001b[0m\u001b[0;34m\u001b[0m\u001b[0m\n\u001b[0m",
      "\u001b[0;31mModuleNotFoundError\u001b[0m: No module named 'Iterable'"
     ]
    }
   ],
   "source": []
  },
  {
   "cell_type": "code",
   "execution_count": null,
   "metadata": {
    "collapsed": true
   },
   "outputs": [],
   "source": []
  }
 ],
 "metadata": {
  "kernelspec": {
   "display_name": "Python 3",
   "language": "python",
   "name": "python3"
  },
  "language_info": {
   "codemirror_mode": {
    "name": "ipython",
    "version": 3
   },
   "file_extension": ".py",
   "mimetype": "text/x-python",
   "name": "python",
   "nbconvert_exporter": "python",
   "pygments_lexer": "ipython3",
   "version": "3.6.1"
  }
 },
 "nbformat": 4,
 "nbformat_minor": 1
}
