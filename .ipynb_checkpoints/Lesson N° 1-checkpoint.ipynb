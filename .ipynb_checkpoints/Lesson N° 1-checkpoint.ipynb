{
 "cells": [
  {
   "cell_type": "markdown",
   "metadata": {},
   "source": [
    "# Estructuras de control"
   ]
  },
  {
   "cell_type": "markdown",
   "metadata": {},
   "source": [
    "## if"
   ]
  },
  {
   "cell_type": "raw",
   "metadata": {},
   "source": [
    "if condition:\n",
    "    do something"
   ]
  },
  {
   "cell_type": "code",
   "execution_count": 5,
   "metadata": {
    "collapsed": false
   },
   "outputs": [
    {
     "name": "stdout",
     "output_type": "stream",
     "text": [
      "a == 5\n"
     ]
    }
   ],
   "source": [
    "a = 5\n",
    "\n",
    "if a == 5: # toda estructura de control termina su linea con dos puntos \":\"\n",
    "    print(\"a == 5\")"
   ]
  },
  {
   "cell_type": "markdown",
   "metadata": {},
   "source": [
    "# if ... else"
   ]
  },
  {
   "cell_type": "raw",
   "metadata": {},
   "source": [
    "if condition:\n",
    "    do something\n",
    "else:\n",
    "    do other thing"
   ]
  },
  {
   "cell_type": "code",
   "execution_count": 6,
   "metadata": {
    "collapsed": false
   },
   "outputs": [
    {
     "name": "stdout",
     "output_type": "stream",
     "text": [
      "a != 5\n"
     ]
    }
   ],
   "source": [
    "a = 4\n",
    "\n",
    "if a == 5:\n",
    "    print(\"a == 5\")\n",
    "else:\n",
    "    print(\"a != 5\")"
   ]
  },
  {
   "cell_type": "markdown",
   "metadata": {},
   "source": [
    "# if ... [elif ... [else]]"
   ]
  },
  {
   "cell_type": "raw",
   "metadata": {},
   "source": [
    "if condition_1:\n",
    "    do something\n",
    "elif condition_2:\n",
    "    do other thing\n",
    "elif condition_3:\n",
    "    do other thing\n",
    "    .\n",
    "    .\n",
    "    .\n",
    "else:\n",
    "    do other thing"
   ]
  },
  {
   "cell_type": "code",
   "execution_count": 10,
   "metadata": {
    "collapsed": false
   },
   "outputs": [
    {
     "name": "stdout",
     "output_type": "stream",
     "text": [
      "a > 5\n"
     ]
    }
   ],
   "source": [
    "a = 6\n",
    "\n",
    "if a < 5:\n",
    "    print(\"a < 5\")\n",
    "elif a > 5:\n",
    "    print(\"a > 5\")\n",
    "else:\n",
    "    print(\"a == 5\")"
   ]
  },
  {
   "cell_type": "markdown",
   "metadata": {},
   "source": [
    "# For"
   ]
  },
  {
   "cell_type": "raw",
   "metadata": {},
   "source": [
    "C/C++\n",
    "\n",
    "for(int i=0; i < n; i++){\n",
    "    do somethin n times\n",
    "}\n",
    "\n",
    "Fortran 77\n",
    "\n",
    "    do lbl i = lower_limit,step,upper_limit\n",
    "      do something\n",
    "lbl continue\n",
    "\n",
    "Fortran 90,95, ... to day\n",
    "\n",
    "do lbl i = lower_limit,step,upper_limit\n",
    "    do something\n",
    "enddo\n",
    "\n",
    "*** Python :D ***\n",
    "\n",
    "for i in  iterable:\n",
    "    do repetitive shitty task!\n",
    "    \n",
    "iterable: listas, typlas, diccionarios, ... etc y todos los tipos derivados"
   ]
  },
  {
   "cell_type": "code",
   "execution_count": 12,
   "metadata": {
    "collapsed": false
   },
   "outputs": [
    {
     "name": "stdout",
     "output_type": "stream",
     "text": [
      "1\n",
      "2\n",
      "3\n",
      "4\n",
      "5\n"
     ]
    }
   ],
   "source": [
    "a = [1,2,3,4,5] # lista\n",
    "\n",
    "for i in a:\n",
    "    print(i)"
   ]
  },
  {
   "cell_type": "code",
   "execution_count": 13,
   "metadata": {
    "collapsed": false
   },
   "outputs": [
    {
     "name": "stdout",
     "output_type": "stream",
     "text": [
      "1\n",
      "2\n",
      "3\n",
      "4\n",
      "5\n"
     ]
    }
   ],
   "source": [
    "a = (1,2,3,4,5) # tupla\n",
    "\n",
    "for i in a:\n",
    "    print(i)"
   ]
  },
  {
   "cell_type": "code",
   "execution_count": 17,
   "metadata": {
    "collapsed": false
   },
   "outputs": [
    {
     "name": "stdout",
     "output_type": "stream",
     "text": [
      "1\n",
      "2\n",
      "3\n",
      "4\n",
      "5\n"
     ]
    }
   ],
   "source": [
    "a = {1:\"a\",2:\"b\",3:\"c\",4:\"d\",5:\"e\"} # diccionario\n",
    "\n",
    "for i in a:\n",
    "    print(i)"
   ]
  },
  {
   "cell_type": "code",
   "execution_count": 66,
   "metadata": {
    "collapsed": false
   },
   "outputs": [
    {
     "name": "stdout",
     "output_type": "stream",
     "text": [
      "1\n",
      "2\n",
      "3\n",
      "4\n",
      "5\n"
     ]
    }
   ],
   "source": [
    "# range(lower_limit=0, upper_limit=int, step=1)\n",
    "# [lower_limit, ... , upper_limit - step]\n",
    "a = range(1,6,1) # range, iterable\n",
    "a = range(1,6) # range, iterable\n",
    "\n",
    "for i in a:\n",
    "    print(i)"
   ]
  },
  {
   "cell_type": "code",
   "execution_count": 67,
   "metadata": {
    "collapsed": false
   },
   "outputs": [
    {
     "name": "stdout",
     "output_type": "stream",
     "text": [
      "(0, 2, 3)\n",
      "(1, 4, 6)\n",
      "(2, 6, 9)\n",
      "(3, 'b', 'd')\n"
     ]
    }
   ],
   "source": [
    "a = (0,1,2,3)\n",
    "b = [2,4,6,\"b\"]\n",
    "d = (3,6,9,\"d\")\n",
    "c = zip(a,b,d)\n",
    "\n",
    "for i in c:\n",
    "    print(i)"
   ]
  },
  {
   "cell_type": "code",
   "execution_count": 73,
   "metadata": {
    "collapsed": false
   },
   "outputs": [
    {
     "name": "stdout",
     "output_type": "stream",
     "text": [
      "0 0.90637227072\n",
      "1 0.974619342585\n",
      "2 0.419014083128\n",
      "3 0.0239982911834\n",
      "4 0.884055791824\n",
      "5 0.568617669008\n",
      "6 0.521120619396\n",
      "7 0.561825353527\n",
      "8 0.400672343734\n",
      "9 0.307154453195\n"
     ]
    }
   ],
   "source": [
    "from numpy import random\n",
    "\n",
    "a = random.random(10) # a es un array de python\n",
    "\n",
    "for i,item in enumerate(a):\n",
    "    print(i, item)"
   ]
  },
  {
   "cell_type": "code",
   "execution_count": 71,
   "metadata": {
    "collapsed": false
   },
   "outputs": [
    {
     "data": {
      "text/plain": [
       "[(0, 0.81228342611371018),\n",
       " (1, 0.081544613147756739),\n",
       " (2, 0.54324960281253343),\n",
       " (3, 0.79231770952333624),\n",
       " (4, 0.78962190684052092),\n",
       " (5, 0.72448997896415857),\n",
       " (6, 0.60619213308567077),\n",
       " (7, 0.77133661854736513),\n",
       " (8, 0.40262794613431219),\n",
       " (9, 0.7125020635745708)]"
      ]
     },
     "execution_count": 71,
     "metadata": {},
     "output_type": "execute_result"
    }
   ],
   "source": [
    "a = random.random(10)\n",
    "b = enumerate(a)\n",
    "list(b)"
   ]
  },
  {
   "cell_type": "code",
   "execution_count": 85,
   "metadata": {
    "collapsed": false
   },
   "outputs": [
    {
     "name": "stdout",
     "output_type": "stream",
     "text": [
      "0.593915728937 0\n",
      "0.0914998236623 1\n",
      "0.728588229433 2\n",
      "0.606725033271 6\n",
      "0.768592087621 8\n",
      "0.576334493066 4\n",
      "0.693078793494 7\n",
      "0.774956743849 5\n",
      "0.177185365445 3\n",
      "0.574846486432 9\n"
     ]
    }
   ],
   "source": [
    "a = random.random(10) # a es un array de python\n",
    "b = range(11)\n",
    "c = zip(a,b)\n",
    "d = dict(c)\n",
    "\n",
    "for key, value in d.items():\n",
    "    print(key, value)"
   ]
  },
  {
   "cell_type": "code",
   "execution_count": 10,
   "metadata": {
    "collapsed": false
   },
   "outputs": [
    {
     "name": "stdout",
     "output_type": "stream",
     "text": [
      "<class 'dict'> is iterabable? True\n",
      "<class 'list'> is iterabable? True\n",
      "<class 'tuple'> is iterabable? True\n",
      "<class 'set'> is iterabable? True\n",
      "<class 'numpy.ndarray'> is iterabable? True\n",
      "<class 'int'> is iterabable? False\n"
     ]
    }
   ],
   "source": [
    "import numpy\n",
    "\n",
    "# Para saber el objeto es iterable debe tener el atributo __iter__\n",
    "\n",
    "types = [dict, list, tuple, set, numpy.ndarray, int]\n",
    "\n",
    "for t in types:\n",
    "    print(\"{0:} is iterabable? {1:}\".format(t, hasattr(t,'__iter__')))"
   ]
  },
  {
   "cell_type": "code",
   "execution_count": 11,
   "metadata": {
    "collapsed": false,
    "scrolled": false
   },
   "outputs": [
    {
     "name": "stdout",
     "output_type": "stream",
     "text": [
      "330ed073-b638-45bd-8b28-b01bb5c63ab6\n",
      "a70700f9-6331-439e-80c4-343203cad42a\n",
      "54fa8a43-1dcf-44a5-8c49-cb64152b3536\n",
      "c08f68a3-16ed-4d0d-9010-b8d4bc4ad54e\n",
      "8d32a66c-43e8-4b0d-b0e6-7cad9bfcd5e2\n",
      "43546f4f-a99d-4e26-bb7a-eb7b0993a91b\n",
      "bd4bc40d-f467-4414-b7fc-79e4163352c6\n",
      "56c88ab5-8d1d-49c4-8d5b-de6a49d8487c\n",
      "c1cdd1e8-7fcf-45d9-8ee3-1da616c3b5b2\n",
      "2fd35b58-d6ef-49ce-b97c-d41dbc4232f6\n"
     ]
    }
   ],
   "source": [
    "import uuid\n",
    "\n",
    "a = [uuid.uuid4() for i in range(10)] # lista por comprension\n",
    "\n",
    "for i in a:\n",
    "    print(i)"
   ]
  },
  {
   "cell_type": "code",
   "execution_count": 12,
   "metadata": {
    "collapsed": false
   },
   "outputs": [
    {
     "data": {
      "text/plain": [
       "list"
      ]
     },
     "execution_count": 12,
     "metadata": {},
     "output_type": "execute_result"
    }
   ],
   "source": [
    "type(a) # para verificar el tipo de una variable"
   ]
  },
  {
   "cell_type": "markdown",
   "metadata": {
    "collapsed": true
   },
   "source": [
    "## For ... else"
   ]
  },
  {
   "cell_type": "raw",
   "metadata": {},
   "source": [
    "for i in terable:\n",
    "    do some repetitive task with condition!! -.-!!\n",
    "    if condition\n",
    "        break\n",
    "else:\n",
    "    something to do if the for is no break"
   ]
  },
  {
   "cell_type": "code",
   "execution_count": 14,
   "metadata": {
    "collapsed": false
   },
   "outputs": [
    {
     "name": "stdout",
     "output_type": "stream",
     "text": [
      "2 is a prime number\n",
      "3 is a prime number\n",
      "4 equals to 2 * 2.0\n",
      "5 is a prime number\n",
      "6 equals to 2 * 3.0\n",
      "7 is a prime number\n",
      "8 equals to 2 * 4.0\n",
      "9 equals to 3 * 3.0\n"
     ]
    }
   ],
   "source": [
    "for n in range(2,10):\n",
    "    for x in range (2,n):\n",
    "        if n % x == 0:\n",
    "            print(n, \"equals to\", x, \"*\", n/x)\n",
    "            break\n",
    "    else:\n",
    "        print(n, \"is a prime number\")"
   ]
  },
  {
   "cell_type": "code",
   "execution_count": 16,
   "metadata": {
    "collapsed": false
   },
   "outputs": [
    {
     "name": "stdout",
     "output_type": "stream",
     "text": [
      "0\n",
      "1\n",
      "2\n",
      "3\n",
      "4\n",
      "shot him down!!\n"
     ]
    }
   ],
   "source": [
    "for i in range(5):\n",
    "    print(i)\n",
    "else:\n",
    "    print(\"shot him down!!\")"
   ]
  },
  {
   "cell_type": "code",
   "execution_count": null,
   "metadata": {
    "collapsed": true
   },
   "outputs": [],
   "source": []
  }
 ],
 "metadata": {
  "kernelspec": {
   "display_name": "Python 3",
   "language": "python",
   "name": "python3"
  },
  "language_info": {
   "codemirror_mode": {
    "name": "ipython",
    "version": 3
   },
   "file_extension": ".py",
   "mimetype": "text/x-python",
   "name": "python",
   "nbconvert_exporter": "python",
   "pygments_lexer": "ipython3",
   "version": "3.4.3"
  }
 },
 "nbformat": 4,
 "nbformat_minor": 0
}
