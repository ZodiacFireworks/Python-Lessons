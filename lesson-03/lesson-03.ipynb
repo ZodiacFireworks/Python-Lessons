{
 "cells": [
  {
   "cell_type": "markdown",
   "metadata": {},
   "source": [
    "<div class=\"clearfix\" style=\"padding: 10px; padding-left: 0px\">\n",
    "<img src=\"../resources/img/softbutterfly-logo.png\" class=\"pull-left\" style=\"display: block; height: 40px; margin: 0;\"><img src=\"../resources/img/jupyter-logo.png\" class=\"pull-right\"  style=\"display: block; height: 20px; margin-top: 10px;\">\n",
    "</div>"
   ]
  },
  {
   "cell_type": "markdown",
   "metadata": {},
   "source": [
    "<h1>\n",
    "Curso de Python Básico<br/>\n",
    "<small>Con aplicaciones en ciencias e ingeniería</small><br/>\n",
    "<small><small>Clase del 07 de ocutbre del 2017</small></small><br/>\n",
    "</h1>"
   ]
  },
  {
   "cell_type": "markdown",
   "metadata": {},
   "source": [
    "<div style=\"text-align:center\">\n",
    "<strong>Martín Josemaría Vuelta Rojas</strong><br/>\n",
    "<code><a href=\"https://github.com/zodiacfireworks\" target=\"_blank\">@zodiacfireworks</a></code><br/>\n",
    "<br/>\n",
    "<em>Universidad Nacional Mayor de San Marcos</em><br/>\n",
    "<span>Facultad de Ciencias Físicas</span><br>\n",
    "<br>\n",
    "<i>SoftButterfly</i><br>\n",
    "<span>Cofundador y Líder del Área de Desarrollo</span>\n",
    "</div>"
   ]
  },
  {
   "cell_type": "markdown",
   "metadata": {
    "collapsed": true
   },
   "source": [
    "## 1 Propiedades de los iterables: `list`, `tutple`,  `set`,  `dict`."
   ]
  },
  {
   "cell_type": "markdown",
   "metadata": {},
   "source": [
    "### 1.1 Definición por compresión"
   ]
  },
  {
   "cell_type": "markdown",
   "metadata": {},
   "source": [
    "En teoría de conjuntos podemos expresar los conjuntos de dos maneras:"
   ]
  },
  {
   "cell_type": "markdown",
   "metadata": {},
   "source": [
    "<blockquote>\n",
    "Por comprensión<br>\n",
    "$x :$ <em>El conjunto de todos los numeros pares menores que 10</em>\n",
    "</blockquote>"
   ]
  },
  {
   "cell_type": "markdown",
   "metadata": {},
   "source": [
    "<blockquote>\n",
    "Por extesnión<br>\n",
    "$x = \\{2,4,6,8\\}$\n",
    "</blockquote>"
   ]
  },
  {
   "cell_type": "markdown",
   "metadata": {},
   "source": [
    "En Python listas, tuplas y conjuntos son declarados por extensión como"
   ]
  },
  {
   "cell_type": "code",
   "execution_count": 4,
   "metadata": {},
   "outputs": [
    {
     "data": {
      "text/plain": [
       "[2, 4, 6, 8]"
      ]
     },
     "execution_count": 4,
     "metadata": {},
     "output_type": "execute_result"
    }
   ],
   "source": [
    "x_list = [2, 4, 6, 8]\n",
    "x_list"
   ]
  },
  {
   "cell_type": "markdown",
   "metadata": {},
   "source": [
    "Pero tambien podemos declararlos por comprensión"
   ]
  },
  {
   "cell_type": "code",
   "execution_count": 6,
   "metadata": {},
   "outputs": [
    {
     "data": {
      "text/plain": [
       "[2, 4, 6, 8]"
      ]
     },
     "execution_count": 6,
     "metadata": {},
     "output_type": "execute_result"
    }
   ],
   "source": [
    "x_list = [2*x for x in range(1,5)]\n",
    "x_list"
   ]
  },
  {
   "cell_type": "code",
   "execution_count": 7,
   "metadata": {},
   "outputs": [
    {
     "data": {
      "text/plain": [
       "[1, 3, 5, 7, 9, 11, 13]"
      ]
     },
     "execution_count": 7,
     "metadata": {},
     "output_type": "execute_result"
    }
   ],
   "source": [
    "x_list = [2*n + 1 for n in range(7)]\n",
    "x_list"
   ]
  },
  {
   "cell_type": "code",
   "execution_count": 12,
   "metadata": {},
   "outputs": [
    {
     "data": {
      "text/plain": [
       "{3, 5, 6, 9, 10, 12, 15, 18}"
      ]
     },
     "execution_count": 12,
     "metadata": {},
     "output_type": "execute_result"
    }
   ],
   "source": [
    "x_set = { x for x in range(1, 20) if x%3==0 or x%5==0 }\n",
    "x_set"
   ]
  },
  {
   "cell_type": "markdown",
   "metadata": {},
   "source": [
    "### 1.2 Zip y unzip"
   ]
  },
  {
   "cell_type": "code",
   "execution_count": 14,
   "metadata": {},
   "outputs": [
    {
     "data": {
      "text/plain": [
       "[1999, 1999, 1999, 1999, 1999, 1999, 1999, 1999, 1999, 1999, 1999, 1999]"
      ]
     },
     "execution_count": 14,
     "metadata": {},
     "output_type": "execute_result"
    }
   ],
   "source": [
    "year = [1999 for n in range(12)]\n",
    "year"
   ]
  },
  {
   "cell_type": "code",
   "execution_count": 15,
   "metadata": {},
   "outputs": [
    {
     "data": {
      "text/plain": [
       "[1, 2, 3, 4, 5, 6, 7, 8, 9, 10, 11, 12]"
      ]
     },
     "execution_count": 15,
     "metadata": {},
     "output_type": "execute_result"
    }
   ],
   "source": [
    "month = [m + 1 for m in range(12)]\n",
    "month"
   ]
  },
  {
   "cell_type": "code",
   "execution_count": 18,
   "metadata": {},
   "outputs": [
    {
     "data": {
      "text/plain": [
       "[(1999, 1),\n",
       " (1999, 2),\n",
       " (1999, 3),\n",
       " (1999, 4),\n",
       " (1999, 5),\n",
       " (1999, 6),\n",
       " (1999, 7),\n",
       " (1999, 8),\n",
       " (1999, 9),\n",
       " (1999, 10),\n",
       " (1999, 11),\n",
       " (1999, 12)]"
      ]
     },
     "execution_count": 18,
     "metadata": {},
     "output_type": "execute_result"
    }
   ],
   "source": [
    "year_month = zip(year, month)\n",
    "# Casting: Conversion de tipos (zip -> list)\n",
    "year_month = list(year_month)\n",
    "year_month"
   ]
  },
  {
   "cell_type": "code",
   "execution_count": 19,
   "metadata": {},
   "outputs": [
    {
     "data": {
      "text/plain": [
       "[(0.7817323891984002, 0.8015416127066975),\n",
       " (0.03395661460608124, 0.18560733636885018),\n",
       " (0.9771873189916472, 0.6208149105837439),\n",
       " (0.3429825675290681, 0.555292449972331),\n",
       " (0.8806812244572018, 0.3313188318865793),\n",
       " (0.9765353140204808, 0.025980849685346974),\n",
       " (0.5079719156686255, 0.859130913582998),\n",
       " (0.7287430253797291, 0.26702006739986617),\n",
       " (0.2726674345257053, 0.9549385632206439),\n",
       " (0.6111143879773552, 0.4483306969592089)]"
      ]
     },
     "execution_count": 19,
     "metadata": {},
     "output_type": "execute_result"
    }
   ],
   "source": [
    "from random import random\n",
    "\n",
    "lat = [random() for i in range(100)]\n",
    "lon = [random() for i in range(100)]\n",
    "latlon = zip(lat, lon)\n",
    "latlon = list(latlon)\n",
    "latlon[0:10]"
   ]
  },
  {
   "cell_type": "code",
   "execution_count": 21,
   "metadata": {},
   "outputs": [
    {
     "name": "stdout",
     "output_type": "stream",
     "text": [
      "(0.7817323891984002, 0.03395661460608124, 0.9771873189916472, 0.3429825675290681, 0.8806812244572018, 0.9765353140204808, 0.5079719156686255, 0.7287430253797291, 0.2726674345257053, 0.6111143879773552)\n",
      "(0.8015416127066975, 0.18560733636885018, 0.6208149105837439, 0.555292449972331, 0.3313188318865793, 0.025980849685346974, 0.859130913582998, 0.26702006739986617, 0.9549385632206439, 0.4483306969592089)\n"
     ]
    }
   ],
   "source": [
    "lat, lon = list(zip(*latlon))\n",
    "print(lat[0:10])\n",
    "print(lon[0:10])"
   ]
  },
  {
   "cell_type": "code",
   "execution_count": 25,
   "metadata": {},
   "outputs": [
    {
     "data": {
      "text/plain": [
       "[(0, 0, 0),\n",
       " (1, 1, 1),\n",
       " (2, 2, 2),\n",
       " (3, 3, 3),\n",
       " (4, 4, 4),\n",
       " (5, 5, 5),\n",
       " (6, 6, 6),\n",
       " (7, 7, 7),\n",
       " (8, 8, 8),\n",
       " (9, 9, 9)]"
      ]
     },
     "execution_count": 25,
     "metadata": {},
     "output_type": "execute_result"
    }
   ],
   "source": [
    "x = [n for n in range(10)]\n",
    "y = [n for n in range(10)]\n",
    "z = [n for n in range(10)]\n",
    "\n",
    "mesh = list(zip(x,y,z))\n",
    "mesh"
   ]
  },
  {
   "cell_type": "code",
   "execution_count": 24,
   "metadata": {},
   "outputs": [
    {
     "name": "stdout",
     "output_type": "stream",
     "text": [
      "(0, 1, 2, 3, 4, 5, 6, 7, 8, 9)\n",
      "(0, 1, 2, 3, 4, 5, 6, 7, 8, 9)\n",
      "(0, 1, 2, 3, 4, 5, 6, 7, 8, 9)\n"
     ]
    }
   ],
   "source": [
    "a, b, c = list(zip(*mesh))\n",
    "print(a)\n",
    "print(b)\n",
    "print(c)"
   ]
  },
  {
   "cell_type": "code",
   "execution_count": 29,
   "metadata": {},
   "outputs": [
    {
     "name": "stdout",
     "output_type": "stream",
     "text": [
      "(0, 1, 2, 3, 4, 5, 6, 7, 8, 9)\n",
      "(0, 1, 2, 3, 4, 5, 6, 7, 8, 9)\n",
      "(0, 1, 2, 3, 4, 5, 6, 7, 8, 9)\n"
     ]
    }
   ],
   "source": [
    "unpackedmesh = list(zip(*mesh))\n",
    "a, b, c = unpackedmesh\n",
    "print(a)\n",
    "print(b)\n",
    "print(c)"
   ]
  },
  {
   "cell_type": "markdown",
   "metadata": {},
   "source": [
    "### 1.3 Coincidencia de patrones (pattern matching)"
   ]
  },
  {
   "cell_type": "code",
   "execution_count": 37,
   "metadata": {},
   "outputs": [
    {
     "name": "stdout",
     "output_type": "stream",
     "text": [
      "Cabeza: 1\n",
      "Cola  : [2, 3, 4, 5, 6]\n"
     ]
    }
   ],
   "source": [
    "x  = [1, 2, 3, 4, 5, 6]\n",
    "head, *tail = x\n",
    "\n",
    "print(\"Cabeza:\", head)\n",
    "print(\"Cola  :\", tail)"
   ]
  },
  {
   "cell_type": "code",
   "execution_count": 43,
   "metadata": {},
   "outputs": [
    {
     "name": "stdout",
     "output_type": "stream",
     "text": [
      "x: 1\n",
      "y: 2\n"
     ]
    }
   ],
   "source": [
    "x, y = 1, 2\n",
    "\n",
    "print('x:', x)\n",
    "print('y:', y)"
   ]
  },
  {
   "cell_type": "code",
   "execution_count": 44,
   "metadata": {},
   "outputs": [
    {
     "name": "stdout",
     "output_type": "stream",
     "text": [
      "x: 2\n",
      "y: 1\n"
     ]
    }
   ],
   "source": [
    "# Swap de python\n",
    "x, y = y, x\n",
    "\n",
    "print('x:', x)\n",
    "print('y:', y)"
   ]
  },
  {
   "cell_type": "code",
   "execution_count": 45,
   "metadata": {},
   "outputs": [
    {
     "name": "stdout",
     "output_type": "stream",
     "text": [
      "a0   : 1\n",
      "a1   : 2\n",
      "Resto: [3, 4, 5, 6]\n"
     ]
    }
   ],
   "source": [
    "x = [1, 2, 3, 4, 5, 6]\n",
    "a0, a1, *tail = x\n",
    "\n",
    "print(\"a0   :\", a0)\n",
    "print(\"a1   :\", a1)\n",
    "print(\"Resto:\", tail)"
   ]
  },
  {
   "cell_type": "code",
   "execution_count": 48,
   "metadata": {},
   "outputs": [
    {
     "name": "stdout",
     "output_type": "stream",
     "text": [
      "Cabeza: [1, 2, 3, 4]\n",
      "z1    : 5\n",
      "z0    : 6\n"
     ]
    }
   ],
   "source": [
    "x = [1, 2, 3, 4, 5, 6]\n",
    "*head, z1, z0 = x\n",
    "\n",
    "print(\"Cabeza:\", head)\n",
    "print(\"z1    :\", z1)\n",
    "print(\"z0    :\", z0)"
   ]
  },
  {
   "cell_type": "code",
   "execution_count": 65,
   "metadata": {},
   "outputs": [
    {
     "ename": "SyntaxError",
     "evalue": "two starred expressions in assignment (<ipython-input-65-a25b8974d281>, line 3)",
     "output_type": "error",
     "traceback": [
      "\u001b[0;36m  File \u001b[0;32m\"<ipython-input-65-a25b8974d281>\"\u001b[0;36m, line \u001b[0;32m3\u001b[0m\n\u001b[0;31m    *head, *tail = x\u001b[0m\n\u001b[0m                    ^\u001b[0m\n\u001b[0;31mSyntaxError\u001b[0m\u001b[0;31m:\u001b[0m two starred expressions in assignment\n"
     ]
    }
   ],
   "source": [
    "# Solo se puede emplear una variable con *\n",
    "x = [1, 2, 3, 4, 5, 6]\n",
    "*head, *tail = x\n",
    "\n",
    "print(head)\n",
    "print(tail)"
   ]
  },
  {
   "cell_type": "markdown",
   "metadata": {},
   "source": [
    "### 1.4 Enumeración"
   ]
  },
  {
   "cell_type": "code",
   "execution_count": 64,
   "metadata": {},
   "outputs": [
    {
     "name": "stdout",
     "output_type": "stream",
     "text": [
      "[0, 1, 1, 2, 3, 5, 8, 13, 21, 34]\n"
     ]
    }
   ],
   "source": [
    "fib = [0, 1]\n",
    "\n",
    "for n in range(2, 10):\n",
    "    fib_n = fib[n-1] + fib[n-2]\n",
    "    fib.append(fib_n)\n",
    "\n",
    "print(fib)"
   ]
  },
  {
   "cell_type": "code",
   "execution_count": 69,
   "metadata": {},
   "outputs": [
    {
     "data": {
      "text/plain": [
       "[(0, 0),\n",
       " (1, 1),\n",
       " (2, 1),\n",
       " (3, 2),\n",
       " (4, 3),\n",
       " (5, 5),\n",
       " (6, 8),\n",
       " (7, 13),\n",
       " (8, 21),\n",
       " (9, 34)]"
      ]
     },
     "execution_count": 69,
     "metadata": {},
     "output_type": "execute_result"
    }
   ],
   "source": [
    "enum_fib = list(enumerate(fib))\n",
    "enum_fib"
   ]
  },
  {
   "cell_type": "code",
   "execution_count": 68,
   "metadata": {},
   "outputs": [
    {
     "data": {
      "text/plain": [
       "[(0, 0),\n",
       " (1, 1),\n",
       " (2, 1),\n",
       " (3, 2),\n",
       " (4, 3),\n",
       " (5, 5),\n",
       " (6, 8),\n",
       " (7, 13),\n",
       " (8, 21),\n",
       " (9, 34)]"
      ]
     },
     "execution_count": 68,
     "metadata": {},
     "output_type": "execute_result"
    }
   ],
   "source": [
    "enum_fib_zip = list(zip([n for n in range(len(fib))] ,fib))\n",
    "enum_fib_zip"
   ]
  },
  {
   "cell_type": "markdown",
   "metadata": {},
   "source": [
    "### 1.5 Algunas funciones útiles"
   ]
  },
  {
   "cell_type": "code",
   "execution_count": 127,
   "metadata": {
    "collapsed": true
   },
   "outputs": [],
   "source": [
    "from random import randint\n",
    "from random import random"
   ]
  },
  {
   "cell_type": "code",
   "execution_count": 128,
   "metadata": {
    "collapsed": true
   },
   "outputs": [],
   "source": [
    "n = randint(0, 10**2)\n",
    "x = [random() for i in range(n)]\n",
    "\n",
    "# x = dict([(i,random()) for i in range(n)])\n",
    "# x = {i:random() for i in range(n)}"
   ]
  },
  {
   "cell_type": "code",
   "execution_count": 129,
   "metadata": {},
   "outputs": [
    {
     "data": {
      "text/plain": [
       "40"
      ]
     },
     "execution_count": 129,
     "metadata": {},
     "output_type": "execute_result"
    }
   ],
   "source": [
    "# Para conocer la longitud de un iterable usamos la funcion len\n",
    "len(x)"
   ]
  },
  {
   "cell_type": "code",
   "execution_count": 130,
   "metadata": {},
   "outputs": [
    {
     "data": {
      "text/plain": [
       "22.53479897321249"
      ]
     },
     "execution_count": 130,
     "metadata": {},
     "output_type": "execute_result"
    }
   ],
   "source": [
    "sum(x)"
   ]
  },
  {
   "cell_type": "code",
   "execution_count": 131,
   "metadata": {
    "scrolled": true
   },
   "outputs": [
    {
     "data": {
      "text/plain": [
       "[0.9979311174772214,\n",
       " 0.9812062919869524,\n",
       " 0.9593512737142855,\n",
       " 0.9401006724953109,\n",
       " 0.9385584803157884,\n",
       " 0.8947680903281436,\n",
       " 0.8939916877208514,\n",
       " 0.8886498827384602,\n",
       " 0.8685240352888733,\n",
       " 0.8319066859459815,\n",
       " 0.8163842833015411,\n",
       " 0.8031218409250562,\n",
       " 0.7720882823133469,\n",
       " 0.7596440567938871,\n",
       " 0.7448585602216882,\n",
       " 0.7118686708402351,\n",
       " 0.6906931753319581,\n",
       " 0.6777223962703188,\n",
       " 0.6590411023923418,\n",
       " 0.6585251066663437,\n",
       " 0.609943031246543,\n",
       " 0.5030154304606194,\n",
       " 0.4922017125193393,\n",
       " 0.445309340902306,\n",
       " 0.3987596913436512,\n",
       " 0.39566298462437766,\n",
       " 0.3828666732576621,\n",
       " 0.3653141918005971,\n",
       " 0.3447645043274541,\n",
       " 0.32747464118344616,\n",
       " 0.2832210109591061,\n",
       " 0.25190740180934557,\n",
       " 0.19519910387487327,\n",
       " 0.19449438339902259,\n",
       " 0.1940078597311281,\n",
       " 0.18661214075074783,\n",
       " 0.1770095492247754,\n",
       " 0.1291274223387464,\n",
       " 0.11671249253044746,\n",
       " 0.05225971385970818]"
      ]
     },
     "execution_count": 131,
     "metadata": {},
     "output_type": "execute_result"
    }
   ],
   "source": [
    "sorted(x, reverse=True)"
   ]
  },
  {
   "cell_type": "code",
   "execution_count": 132,
   "metadata": {},
   "outputs": [
    {
     "name": "stdout",
     "output_type": "stream",
     "text": [
      "Help on built-in function sorted in module builtins:\n",
      "\n",
      "sorted(iterable, /, *, key=None, reverse=False)\n",
      "    Return a new list containing all items from the iterable in ascending order.\n",
      "    \n",
      "    A custom key function can be supplied to customize the sort order, and the\n",
      "    reverse flag can be set to request the result in descending order.\n",
      "\n"
     ]
    }
   ],
   "source": [
    "help(sorted)"
   ]
  },
  {
   "cell_type": "markdown",
   "metadata": {},
   "source": [
    "### 1.6 Algunas propiedades de los diccionarios"
   ]
  },
  {
   "cell_type": "code",
   "execution_count": 137,
   "metadata": {
    "scrolled": true
   },
   "outputs": [
    {
     "data": {
      "text/plain": [
       "[(0, 'a'),\n",
       " (1, 'b'),\n",
       " (2, 'c'),\n",
       " (3, 'd'),\n",
       " (4, 'e'),\n",
       " (5, 'f'),\n",
       " (6, 'g'),\n",
       " (7, 'h'),\n",
       " (8, 'i'),\n",
       " (9, 'j'),\n",
       " (10, 'k'),\n",
       " (11, 'l'),\n",
       " (12, 'm'),\n",
       " (13, 'n'),\n",
       " (14, 'ñ'),\n",
       " (15, 'o'),\n",
       " (16, 'p'),\n",
       " (17, 'q'),\n",
       " (18, 'r'),\n",
       " (19, 's'),\n",
       " (20, 't'),\n",
       " (21, 'u'),\n",
       " (22, 'v'),\n",
       " (23, 'w'),\n",
       " (24, 'x'),\n",
       " (25, 'y'),\n",
       " (26, 'z')]"
      ]
     },
     "execution_count": 137,
     "metadata": {},
     "output_type": "execute_result"
    }
   ],
   "source": [
    "alphabet = 'abcdefghijklmnñopqrstuvwxyz'\n",
    "enum_alphabet = enumerate(alphabet)\n",
    "enum_alphabet = list(enum_alphabet)\n",
    "enum_alphabet"
   ]
  },
  {
   "cell_type": "code",
   "execution_count": 142,
   "metadata": {
    "scrolled": true
   },
   "outputs": [
    {
     "data": {
      "text/plain": [
       "{0: 'a',\n",
       " 1: 'b',\n",
       " 2: 'c',\n",
       " 3: 'd',\n",
       " 4: 'e',\n",
       " 5: 'f',\n",
       " 6: 'g',\n",
       " 7: 'h',\n",
       " 8: 'i',\n",
       " 9: 'j',\n",
       " 10: 'k',\n",
       " 11: 'l',\n",
       " 12: 'm',\n",
       " 13: 'n',\n",
       " 14: 'ñ',\n",
       " 15: 'o',\n",
       " 16: 'p',\n",
       " 17: 'q',\n",
       " 18: 'r',\n",
       " 19: 's',\n",
       " 20: 't',\n",
       " 21: 'u',\n",
       " 22: 'v',\n",
       " 23: 'w',\n",
       " 24: 'x',\n",
       " 25: 'y',\n",
       " 26: 'z'}"
      ]
     },
     "execution_count": 142,
     "metadata": {},
     "output_type": "execute_result"
    }
   ],
   "source": [
    "dict_alphabet = dict(enum_alphabet)\n",
    "dict_alphabet"
   ]
  },
  {
   "cell_type": "code",
   "execution_count": 143,
   "metadata": {},
   "outputs": [
    {
     "data": {
      "text/plain": [
       "dict_keys([0, 1, 2, 3, 4, 5, 6, 7, 8, 9, 10, 11, 12, 13, 14, 15, 16, 17, 18, 19, 20, 21, 22, 23, 24, 25, 26])"
      ]
     },
     "execution_count": 143,
     "metadata": {},
     "output_type": "execute_result"
    }
   ],
   "source": [
    "dict_alphabet.keys()"
   ]
  },
  {
   "cell_type": "code",
   "execution_count": 144,
   "metadata": {},
   "outputs": [
    {
     "data": {
      "text/plain": [
       "dict_values(['a', 'b', 'c', 'd', 'e', 'f', 'g', 'h', 'i', 'j', 'k', 'l', 'm', 'n', 'ñ', 'o', 'p', 'q', 'r', 's', 't', 'u', 'v', 'w', 'x', 'y', 'z'])"
      ]
     },
     "execution_count": 144,
     "metadata": {},
     "output_type": "execute_result"
    }
   ],
   "source": [
    "dict_alphabet.values()"
   ]
  },
  {
   "cell_type": "code",
   "execution_count": 145,
   "metadata": {},
   "outputs": [
    {
     "data": {
      "text/plain": [
       "dict_items([(0, 'a'), (1, 'b'), (2, 'c'), (3, 'd'), (4, 'e'), (5, 'f'), (6, 'g'), (7, 'h'), (8, 'i'), (9, 'j'), (10, 'k'), (11, 'l'), (12, 'm'), (13, 'n'), (14, 'ñ'), (15, 'o'), (16, 'p'), (17, 'q'), (18, 'r'), (19, 's'), (20, 't'), (21, 'u'), (22, 'v'), (23, 'w'), (24, 'x'), (25, 'y'), (26, 'z')])"
      ]
     },
     "execution_count": 145,
     "metadata": {},
     "output_type": "execute_result"
    }
   ],
   "source": [
    "dict_alphabet.items()"
   ]
  },
  {
   "cell_type": "code",
   "execution_count": 147,
   "metadata": {},
   "outputs": [
    {
     "name": "stdout",
     "output_type": "stream",
     "text": [
      "(0, 1, 2, 3, 4, 5, 6, 7, 8, 9, 10, 11, 12, 13, 14, 15, 16, 17, 18, 19, 20, 21, 22, 23, 24, 25, 26)\n",
      "('a', 'b', 'c', 'd', 'e', 'f', 'g', 'h', 'i', 'j', 'k', 'l', 'm', 'n', 'ñ', 'o', 'p', 'q', 'r', 's', 't', 'u', 'v', 'w', 'x', 'y', 'z')\n"
     ]
    }
   ],
   "source": [
    "index, letters = list(zip(*dict_alphabet.items()))\n",
    "print(index)\n",
    "print(letters)"
   ]
  },
  {
   "cell_type": "code",
   "execution_count": 158,
   "metadata": {
    "scrolled": true
   },
   "outputs": [
    {
     "data": {
      "text/plain": [
       "[('a', 0),\n",
       " ('b', 1),\n",
       " ('c', 2),\n",
       " ('d', 3),\n",
       " ('e', 4),\n",
       " ('f', 5),\n",
       " ('g', 6),\n",
       " ('h', 7),\n",
       " ('i', 8),\n",
       " ('j', 9),\n",
       " ('k', 10),\n",
       " ('l', 11),\n",
       " ('m', 12),\n",
       " ('n', 13),\n",
       " ('ñ', 14),\n",
       " ('o', 15),\n",
       " ('p', 16),\n",
       " ('q', 17),\n",
       " ('r', 18),\n",
       " ('s', 19),\n",
       " ('t', 20),\n",
       " ('u', 21),\n",
       " ('v', 22),\n",
       " ('w', 23),\n",
       " ('x', 24),\n",
       " ('y', 25),\n",
       " ('z', 26)]"
      ]
     },
     "execution_count": 158,
     "metadata": {},
     "output_type": "execute_result"
    }
   ],
   "source": [
    "letters = list(alphabet)\n",
    "index = [n for n in range(len(letters))]\n",
    "zip_alphabet = list(zip(letters, index))\n",
    "zip_alphabet"
   ]
  },
  {
   "cell_type": "code",
   "execution_count": 159,
   "metadata": {
    "scrolled": true
   },
   "outputs": [
    {
     "data": {
      "text/plain": [
       "{'a': 0,\n",
       " 'b': 1,\n",
       " 'c': 2,\n",
       " 'd': 3,\n",
       " 'e': 4,\n",
       " 'f': 5,\n",
       " 'g': 6,\n",
       " 'h': 7,\n",
       " 'i': 8,\n",
       " 'j': 9,\n",
       " 'k': 10,\n",
       " 'l': 11,\n",
       " 'm': 12,\n",
       " 'n': 13,\n",
       " 'o': 15,\n",
       " 'p': 16,\n",
       " 'q': 17,\n",
       " 'r': 18,\n",
       " 's': 19,\n",
       " 't': 20,\n",
       " 'u': 21,\n",
       " 'v': 22,\n",
       " 'w': 23,\n",
       " 'x': 24,\n",
       " 'y': 25,\n",
       " 'z': 26,\n",
       " 'ñ': 14}"
      ]
     },
     "execution_count": 159,
     "metadata": {},
     "output_type": "execute_result"
    }
   ],
   "source": [
    "dict_alphabet = dict(zip_alphabet)\n",
    "dict_alphabet"
   ]
  },
  {
   "cell_type": "code",
   "execution_count": 161,
   "metadata": {},
   "outputs": [
    {
     "name": "stdout",
     "output_type": "stream",
     "text": [
      "La letra a ocupa el lugar 1 en el alfabeto.\n",
      "La letra b ocupa el lugar 2 en el alfabeto.\n",
      "La letra c ocupa el lugar 3 en el alfabeto.\n",
      "La letra d ocupa el lugar 4 en el alfabeto.\n",
      "La letra e ocupa el lugar 5 en el alfabeto.\n",
      "La letra f ocupa el lugar 6 en el alfabeto.\n",
      "La letra g ocupa el lugar 7 en el alfabeto.\n",
      "La letra h ocupa el lugar 8 en el alfabeto.\n",
      "La letra i ocupa el lugar 9 en el alfabeto.\n",
      "La letra j ocupa el lugar 10 en el alfabeto.\n",
      "La letra k ocupa el lugar 11 en el alfabeto.\n",
      "La letra l ocupa el lugar 12 en el alfabeto.\n",
      "La letra m ocupa el lugar 13 en el alfabeto.\n",
      "La letra n ocupa el lugar 14 en el alfabeto.\n",
      "La letra ñ ocupa el lugar 15 en el alfabeto.\n",
      "La letra o ocupa el lugar 16 en el alfabeto.\n",
      "La letra p ocupa el lugar 17 en el alfabeto.\n",
      "La letra q ocupa el lugar 18 en el alfabeto.\n",
      "La letra r ocupa el lugar 19 en el alfabeto.\n",
      "La letra s ocupa el lugar 20 en el alfabeto.\n",
      "La letra t ocupa el lugar 21 en el alfabeto.\n",
      "La letra u ocupa el lugar 22 en el alfabeto.\n",
      "La letra v ocupa el lugar 23 en el alfabeto.\n",
      "La letra w ocupa el lugar 24 en el alfabeto.\n",
      "La letra x ocupa el lugar 25 en el alfabeto.\n",
      "La letra y ocupa el lugar 26 en el alfabeto.\n",
      "La letra z ocupa el lugar 27 en el alfabeto.\n"
     ]
    }
   ],
   "source": [
    "for (l, i) in dict_alphabet.items():\n",
    "    print('La letra', l, 'ocupa el lugar', i+1, 'en el alfabeto.')"
   ]
  },
  {
   "cell_type": "markdown",
   "metadata": {
    "collapsed": true
   },
   "source": [
    "## 2 Funciones"
   ]
  },
  {
   "cell_type": "markdown",
   "metadata": {},
   "source": [
    "Una función es un conjunto de instrucciones (habitualmente de uso común) agrupadas bajo un mismo nombre."
   ]
  },
  {
   "cell_type": "markdown",
   "metadata": {},
   "source": [
    "Las funciopnes en python se declaran usando el comando `def`, cuya sintaxis es la siguiente"
   ]
  },
  {
   "cell_type": "markdown",
   "metadata": {},
   "source": [
    "```\n",
    "def nombre_de_la_función(argumentos):\n",
    "    cuerpo_de_la_función\n",
    "```"
   ]
  },
  {
   "cell_type": "markdown",
   "metadata": {},
   "source": [
    "#### Ejemplos"
   ]
  },
  {
   "cell_type": "code",
   "execution_count": 162,
   "metadata": {
    "collapsed": true
   },
   "outputs": [],
   "source": [
    "def average(x):\n",
    "    \"\"\"\n",
    "    La función `average` calcula el promedio arimetico\n",
    "    de un vector `x`.\n",
    "    \"\"\"\n",
    "    return sum(x)/len(x)"
   ]
  },
  {
   "cell_type": "code",
   "execution_count": 164,
   "metadata": {},
   "outputs": [
    {
     "data": {
      "text/plain": [
       "5.5"
      ]
     },
     "execution_count": 164,
     "metadata": {},
     "output_type": "execute_result"
    }
   ],
   "source": [
    "x = [1, 2, 3, 4, 5, 6, 7, 8, 9, 10]\n",
    "x_average = average(x)\n",
    "x_average"
   ]
  },
  {
   "cell_type": "code",
   "execution_count": 167,
   "metadata": {},
   "outputs": [
    {
     "data": {
      "text/plain": [
       "nan"
      ]
     },
     "execution_count": 167,
     "metadata": {},
     "output_type": "execute_result"
    }
   ],
   "source": [
    "from math import nan\n",
    "\n",
    "x = [1, 2, 3, 4, 5, nan, 7, 8, 9, 10]\n",
    "x_average = average(x)\n",
    "x_average"
   ]
  },
  {
   "cell_type": "code",
   "execution_count": 168,
   "metadata": {
    "collapsed": true
   },
   "outputs": [],
   "source": [
    "def isnan(x):\n",
    "    return not(x == x)"
   ]
  },
  {
   "cell_type": "code",
   "execution_count": 169,
   "metadata": {},
   "outputs": [
    {
     "data": {
      "text/plain": [
       "False"
      ]
     },
     "execution_count": 169,
     "metadata": {},
     "output_type": "execute_result"
    }
   ],
   "source": [
    "isnan(5)"
   ]
  },
  {
   "cell_type": "code",
   "execution_count": 170,
   "metadata": {},
   "outputs": [
    {
     "data": {
      "text/plain": [
       "True"
      ]
     },
     "execution_count": 170,
     "metadata": {},
     "output_type": "execute_result"
    }
   ],
   "source": [
    "isnan(nan)"
   ]
  },
  {
   "cell_type": "code",
   "execution_count": 171,
   "metadata": {
    "collapsed": true
   },
   "outputs": [],
   "source": [
    "def nan_average(x):\n",
    "    \"\"\"\n",
    "    La función `average` calcula el promedio arimetico\n",
    "    de un vector `x` excluyendo los valorens `nan`.\n",
    "    \"\"\"\n",
    "    x_without_nan = [z for z in x if not isnan(z)]\n",
    "    return sum(x_without_nan)/len(x_without_nan)"
   ]
  },
  {
   "cell_type": "code",
   "execution_count": 174,
   "metadata": {},
   "outputs": [
    {
     "data": {
      "text/plain": [
       "5.444444444444445"
      ]
     },
     "execution_count": 174,
     "metadata": {},
     "output_type": "execute_result"
    }
   ],
   "source": [
    "from math import nan\n",
    "\n",
    "x = [1, 2, 3, 4, 5, nan, 7, 8, 9, 10]\n",
    "x_average = nan_average(x)\n",
    "x_average"
   ]
  },
  {
   "cell_type": "code",
   "execution_count": 175,
   "metadata": {
    "collapsed": true
   },
   "outputs": [],
   "source": [
    "def password_generator(name, code):\n",
    "    \"\"\"\n",
    "    Genera un código de la forma:\n",
    "    \n",
    "      Primera      5 digitos         Última\n",
    "       letra    +  centrales   +      letra\n",
    "    del nombre     del codigo     del nombre\n",
    "    \n",
    "    name esta compuesto solo de letras\n",
    "    code es un codigo numerico de 11 digitos\n",
    "    \"\"\"\n",
    "    str_code = str(code)\n",
    "    cental_digits = str_code[3:8]\n",
    "    password = name[0] + cental_digits + name[-1]\n",
    "    \n",
    "    return password"
   ]
  },
  {
   "cell_type": "code",
   "execution_count": 177,
   "metadata": {},
   "outputs": [
    {
     "data": {
      "text/plain": [
       "'A21228o'"
      ]
     },
     "execution_count": 177,
     "metadata": {},
     "output_type": "execute_result"
    }
   ],
   "source": [
    "password_generator('Alvaro', 87321228773)"
   ]
  },
  {
   "cell_type": "code",
   "execution_count": null,
   "metadata": {
    "collapsed": true
   },
   "outputs": [],
   "source": []
  }
 ],
 "metadata": {
  "kernelspec": {
   "display_name": "Python 3",
   "language": "python",
   "name": "python3"
  },
  "language_info": {
   "codemirror_mode": {
    "name": "ipython",
    "version": 3
   },
   "file_extension": ".py",
   "mimetype": "text/x-python",
   "name": "python",
   "nbconvert_exporter": "python",
   "pygments_lexer": "ipython3",
   "version": "3.6.1"
  }
 },
 "nbformat": 4,
 "nbformat_minor": 2
}
