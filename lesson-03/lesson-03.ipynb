{
 "cells": [
  {
   "cell_type": "markdown",
   "metadata": {},
   "source": [
    "<div class=\"clearfix\" style=\"padding: 10px; padding-left: 0px\">\n",
    "<img src=\"../resources/img/softbutterfly-logo.png\" class=\"pull-left\" style=\"display: block; height: 40px; margin: 0;\"><img src=\"../resources/img/jupyter-logo.png\" class=\"pull-right\"  style=\"display: block; height: 20px; margin-top: 10px;\">\n",
    "</div>"
   ]
  },
  {
   "cell_type": "markdown",
   "metadata": {},
   "source": [
    "<h1>\n",
    "Curso de Python Básico<br/>\n",
    "<small>Con aplicaciones en ciencias e ingeniería</small><br/>\n",
    "<small><small>Clase del 07 de ocutbre del 2017</small></small><br/>\n",
    "</h1>"
   ]
  },
  {
   "cell_type": "markdown",
   "metadata": {},
   "source": [
    "<div style=\"text-align:center\">\n",
    "<strong>Martín Josemaría Vuelta Rojas</strong><br/>\n",
    "<code><a href=\"https://github.com/zodiacfireworks\" target=\"_blank\">@zodiacfireworks</a></code><br/>\n",
    "<br/>\n",
    "<em>Universidad Nacional Mayor de San Marcos</em><br/>\n",
    "<span>Facultad de Ciencias Físicas</span><br>\n",
    "<br>\n",
    "<i>SoftButterfly</i><br>\n",
    "<span>Cofundador y Líder del Área de Desarrollo</span>\n",
    "</div>"
   ]
  },
  {
   "cell_type": "markdown",
   "metadata": {
    "collapsed": true
   },
   "source": [
    "## 1 Propiedades de los iterables: `list`, `tutple`,  `dict`."
   ]
  },
  {
   "cell_type": "markdown",
   "metadata": {},
   "source": [
    "### 1.1 Definición por compresión"
   ]
  },
  {
   "cell_type": "markdown",
   "metadata": {},
   "source": [
    "En teoría de conjuntos podemos expresar los conjuntos de dos maneras:"
   ]
  },
  {
   "cell_type": "markdown",
   "metadata": {},
   "source": [
    "<blockquote>\n",
    "Por comprensión<br>\n",
    "$x :$ <em>El conjunto de todos los numeros pares menores que 10</em>\n",
    "</blockquote>"
   ]
  },
  {
   "cell_type": "markdown",
   "metadata": {},
   "source": [
    "<blockquote>\n",
    "Por extesnión<br>\n",
    "$x = \\{2,4,6,8\\}$\n",
    "</blockquote>"
   ]
  },
  {
   "cell_type": "markdown",
   "metadata": {},
   "source": [
    "En Python listas, tuplas y conjuntos son declarados por extensión como"
   ]
  },
  {
   "cell_type": "code",
   "execution_count": 4,
   "metadata": {},
   "outputs": [
    {
     "data": {
      "text/plain": [
       "[2, 4, 6, 8]"
      ]
     },
     "execution_count": 4,
     "metadata": {},
     "output_type": "execute_result"
    }
   ],
   "source": [
    "x_list = [2, 4, 6, 8]\n",
    "x_list"
   ]
  },
  {
   "cell_type": "markdown",
   "metadata": {},
   "source": [
    "Pero tambien podemos declararlos por comprensión"
   ]
  },
  {
   "cell_type": "code",
   "execution_count": 6,
   "metadata": {},
   "outputs": [
    {
     "data": {
      "text/plain": [
       "[2, 4, 6, 8]"
      ]
     },
     "execution_count": 6,
     "metadata": {},
     "output_type": "execute_result"
    }
   ],
   "source": [
    "x_list = [2*x for x in range(1,5)]\n",
    "x_list"
   ]
  },
  {
   "cell_type": "code",
   "execution_count": 7,
   "metadata": {},
   "outputs": [
    {
     "data": {
      "text/plain": [
       "[1, 3, 5, 7, 9, 11, 13]"
      ]
     },
     "execution_count": 7,
     "metadata": {},
     "output_type": "execute_result"
    }
   ],
   "source": [
    "x_list = [2*n + 1 for n in range(7)]\n",
    "x_list"
   ]
  },
  {
   "cell_type": "code",
   "execution_count": 12,
   "metadata": {},
   "outputs": [
    {
     "data": {
      "text/plain": [
       "{3, 5, 6, 9, 10, 12, 15, 18}"
      ]
     },
     "execution_count": 12,
     "metadata": {},
     "output_type": "execute_result"
    }
   ],
   "source": [
    "x_set = { x for x in range(1, 20) if x%3==0 or x%5==0 }\n",
    "x_set"
   ]
  },
  {
   "cell_type": "markdown",
   "metadata": {},
   "source": [
    "### 1.2 Zip y unzip"
   ]
  },
  {
   "cell_type": "code",
   "execution_count": 14,
   "metadata": {},
   "outputs": [
    {
     "data": {
      "text/plain": [
       "[1999, 1999, 1999, 1999, 1999, 1999, 1999, 1999, 1999, 1999, 1999, 1999]"
      ]
     },
     "execution_count": 14,
     "metadata": {},
     "output_type": "execute_result"
    }
   ],
   "source": [
    "year = [1999 for n in range(12)]\n",
    "year"
   ]
  },
  {
   "cell_type": "code",
   "execution_count": 15,
   "metadata": {},
   "outputs": [
    {
     "data": {
      "text/plain": [
       "[1, 2, 3, 4, 5, 6, 7, 8, 9, 10, 11, 12]"
      ]
     },
     "execution_count": 15,
     "metadata": {},
     "output_type": "execute_result"
    }
   ],
   "source": [
    "month = [m + 1 for m in range(12)]\n",
    "month"
   ]
  },
  {
   "cell_type": "code",
   "execution_count": 18,
   "metadata": {},
   "outputs": [
    {
     "data": {
      "text/plain": [
       "[(1999, 1),\n",
       " (1999, 2),\n",
       " (1999, 3),\n",
       " (1999, 4),\n",
       " (1999, 5),\n",
       " (1999, 6),\n",
       " (1999, 7),\n",
       " (1999, 8),\n",
       " (1999, 9),\n",
       " (1999, 10),\n",
       " (1999, 11),\n",
       " (1999, 12)]"
      ]
     },
     "execution_count": 18,
     "metadata": {},
     "output_type": "execute_result"
    }
   ],
   "source": [
    "year_month = zip(year, month)\n",
    "# Casting: Conversion de tipos (zip -> list)\n",
    "year_month = list(year_month)\n",
    "year_month"
   ]
  },
  {
   "cell_type": "code",
   "execution_count": 19,
   "metadata": {},
   "outputs": [
    {
     "data": {
      "text/plain": [
       "[(0.7817323891984002, 0.8015416127066975),\n",
       " (0.03395661460608124, 0.18560733636885018),\n",
       " (0.9771873189916472, 0.6208149105837439),\n",
       " (0.3429825675290681, 0.555292449972331),\n",
       " (0.8806812244572018, 0.3313188318865793),\n",
       " (0.9765353140204808, 0.025980849685346974),\n",
       " (0.5079719156686255, 0.859130913582998),\n",
       " (0.7287430253797291, 0.26702006739986617),\n",
       " (0.2726674345257053, 0.9549385632206439),\n",
       " (0.6111143879773552, 0.4483306969592089)]"
      ]
     },
     "execution_count": 19,
     "metadata": {},
     "output_type": "execute_result"
    }
   ],
   "source": [
    "from random import random\n",
    "\n",
    "lat = [random() for i in range(100)]\n",
    "lon = [random() for i in range(100)]\n",
    "latlon = zip(lat, lon)\n",
    "latlon = list(latlon)\n",
    "latlon[0:10]"
   ]
  },
  {
   "cell_type": "code",
   "execution_count": 21,
   "metadata": {},
   "outputs": [
    {
     "name": "stdout",
     "output_type": "stream",
     "text": [
      "(0.7817323891984002, 0.03395661460608124, 0.9771873189916472, 0.3429825675290681, 0.8806812244572018, 0.9765353140204808, 0.5079719156686255, 0.7287430253797291, 0.2726674345257053, 0.6111143879773552)\n",
      "(0.8015416127066975, 0.18560733636885018, 0.6208149105837439, 0.555292449972331, 0.3313188318865793, 0.025980849685346974, 0.859130913582998, 0.26702006739986617, 0.9549385632206439, 0.4483306969592089)\n"
     ]
    }
   ],
   "source": [
    "lat, lon = list(zip(*latlon))\n",
    "print(lat[0:10])\n",
    "print(lon[0:10])"
   ]
  },
  {
   "cell_type": "code",
   "execution_count": 25,
   "metadata": {},
   "outputs": [
    {
     "data": {
      "text/plain": [
       "[(0, 0, 0),\n",
       " (1, 1, 1),\n",
       " (2, 2, 2),\n",
       " (3, 3, 3),\n",
       " (4, 4, 4),\n",
       " (5, 5, 5),\n",
       " (6, 6, 6),\n",
       " (7, 7, 7),\n",
       " (8, 8, 8),\n",
       " (9, 9, 9)]"
      ]
     },
     "execution_count": 25,
     "metadata": {},
     "output_type": "execute_result"
    }
   ],
   "source": [
    "x = [n for n in range(10)]\n",
    "y = [n for n in range(10)]\n",
    "z = [n for n in range(10)]\n",
    "\n",
    "mesh = list(zip(x,y,z))\n",
    "mesh"
   ]
  },
  {
   "cell_type": "code",
   "execution_count": 24,
   "metadata": {},
   "outputs": [
    {
     "name": "stdout",
     "output_type": "stream",
     "text": [
      "(0, 1, 2, 3, 4, 5, 6, 7, 8, 9)\n",
      "(0, 1, 2, 3, 4, 5, 6, 7, 8, 9)\n",
      "(0, 1, 2, 3, 4, 5, 6, 7, 8, 9)\n"
     ]
    }
   ],
   "source": [
    "a, b, c = list(zip(*mesh))\n",
    "print(a)\n",
    "print(b)\n",
    "print(c)"
   ]
  },
  {
   "cell_type": "code",
   "execution_count": 29,
   "metadata": {},
   "outputs": [
    {
     "name": "stdout",
     "output_type": "stream",
     "text": [
      "(0, 1, 2, 3, 4, 5, 6, 7, 8, 9)\n",
      "(0, 1, 2, 3, 4, 5, 6, 7, 8, 9)\n",
      "(0, 1, 2, 3, 4, 5, 6, 7, 8, 9)\n"
     ]
    }
   ],
   "source": [
    "unpackedmesh = list(zip(*mesh))\n",
    "a, b, c = unpackedmesh\n",
    "print(a)\n",
    "print(b)\n",
    "print(c)"
   ]
  },
  {
   "cell_type": "markdown",
   "metadata": {},
   "source": [
    "### 1.3 Coincidencia de patrones (pattern matching)"
   ]
  },
  {
   "cell_type": "code",
   "execution_count": 37,
   "metadata": {},
   "outputs": [
    {
     "name": "stdout",
     "output_type": "stream",
     "text": [
      "Cabeza: 1\n",
      "Cola  : [2, 3, 4, 5, 6]\n"
     ]
    }
   ],
   "source": [
    "x  = [1, 2, 3, 4, 5, 6]\n",
    "head, *tail = x\n",
    "\n",
    "print(\"Cabeza:\", head)\n",
    "print(\"Cola  :\", tail)"
   ]
  },
  {
   "cell_type": "code",
   "execution_count": 43,
   "metadata": {},
   "outputs": [
    {
     "name": "stdout",
     "output_type": "stream",
     "text": [
      "x: 1\n",
      "y: 2\n"
     ]
    }
   ],
   "source": [
    "x, y = 1, 2\n",
    "\n",
    "print('x:', x)\n",
    "print('y:', y)"
   ]
  },
  {
   "cell_type": "code",
   "execution_count": 44,
   "metadata": {},
   "outputs": [
    {
     "name": "stdout",
     "output_type": "stream",
     "text": [
      "x: 2\n",
      "y: 1\n"
     ]
    }
   ],
   "source": [
    "# Swap de python\n",
    "x, y = y, x\n",
    "\n",
    "print('x:', x)\n",
    "print('y:', y)"
   ]
  },
  {
   "cell_type": "code",
   "execution_count": 45,
   "metadata": {},
   "outputs": [
    {
     "name": "stdout",
     "output_type": "stream",
     "text": [
      "a0   : 1\n",
      "a1   : 2\n",
      "Resto: [3, 4, 5, 6]\n"
     ]
    }
   ],
   "source": [
    "x = [1, 2, 3, 4, 5, 6]\n",
    "a0, a1, *tail = x\n",
    "\n",
    "print(\"a0   :\", a0)\n",
    "print(\"a1   :\", a1)\n",
    "print(\"Resto:\", tail)"
   ]
  },
  {
   "cell_type": "code",
   "execution_count": 48,
   "metadata": {},
   "outputs": [
    {
     "name": "stdout",
     "output_type": "stream",
     "text": [
      "Cabeza: [1, 2, 3, 4]\n",
      "z1    : 5\n",
      "z0    : 6\n"
     ]
    }
   ],
   "source": [
    "x = [1, 2, 3, 4, 5, 6]\n",
    "*head, z1, z0 = x\n",
    "\n",
    "print(\"Cabeza:\", head)\n",
    "print(\"z1    :\", z1)\n",
    "print(\"z0    :\", z0)"
   ]
  },
  {
   "cell_type": "code",
   "execution_count": 50,
   "metadata": {},
   "outputs": [
    {
     "ename": "SyntaxError",
     "evalue": "two starred expressions in assignment (<ipython-input-50-a25b8974d281>, line 3)",
     "output_type": "error",
     "traceback": [
      "\u001b[0;36m  File \u001b[0;32m\"<ipython-input-50-a25b8974d281>\"\u001b[0;36m, line \u001b[0;32m3\u001b[0m\n\u001b[0;31m    *head, *tail = x\u001b[0m\n\u001b[0m                    ^\u001b[0m\n\u001b[0;31mSyntaxError\u001b[0m\u001b[0;31m:\u001b[0m two starred expressions in assignment\n"
     ]
    }
   ],
   "source": [
    "# Solo se puede emplear una variable con *\n",
    "x = [1, 2, 3, 4, 5, 6]\n",
    "*head, *tail = x\n",
    "\n",
    "print(head)\n",
    "print(tail)"
   ]
  },
  {
   "cell_type": "markdown",
   "metadata": {},
   "source": [
    "### 1.3 Enumeración"
   ]
  },
  {
   "cell_type": "markdown",
   "metadata": {},
   "source": []
  }
 ],
 "metadata": {
  "kernelspec": {
   "display_name": "Python 3",
   "language": "python",
   "name": "python3"
  },
  "language_info": {
   "codemirror_mode": {
    "name": "ipython",
    "version": 3
   },
   "file_extension": ".py",
   "mimetype": "text/x-python",
   "name": "python",
   "nbconvert_exporter": "python",
   "pygments_lexer": "ipython3",
   "version": "3.6.1"
  }
 },
 "nbformat": 4,
 "nbformat_minor": 2
}
