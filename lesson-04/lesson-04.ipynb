{
 "cells": [
  {
   "cell_type": "markdown",
   "metadata": {},
   "source": [
    "<div class=\"clearfix\" style=\"padding: 10px; padding-left: 0px\">\n",
    "<img src=\"../resources/img/softbutterfly-logo.png\" class=\"pull-left\" style=\"display: block; height: 40px; margin: 0;\"><img src=\"../resources/img/jupyter-logo.png\" class=\"pull-right\"  style=\"display: block; height: 20px; margin-top: 10px;\">\n",
    "</div>"
   ]
  },
  {
   "cell_type": "markdown",
   "metadata": {},
   "source": [
    "<h1>\n",
    "Curso de Python Básico<br/>\n",
    "<small>Con aplicaciones en ciencias e ingeniería</small><br/>\n",
    "<small><small>Clase del 07 de ocutbre del 2017</small></small><br/>\n",
    "</h1>"
   ]
  },
  {
   "cell_type": "markdown",
   "metadata": {},
   "source": [
    "<div style=\"text-align:center\">\n",
    "<strong>Martín Josemaría Vuelta Rojas</strong><br/>\n",
    "<code><a href=\"https://github.com/zodiacfireworks\" target=\"_blank\">@zodiacfireworks</a></code><br/>\n",
    "<br/>\n",
    "<em>Universidad Nacional Mayor de San Marcos</em><br/>\n",
    "<span>Facultad de Ciencias Físicas</span><br>\n",
    "<br>\n",
    "<i>SoftButterfly</i><br>\n",
    "<span>Cofundador y Líder del Área de Desarrollo</span>\n",
    "</div>"
   ]
  },
  {
   "cell_type": "markdown",
   "metadata": {},
   "source": [
    "## 1 Lectura y Escritura de archivos"
   ]
  },
  {
   "cell_type": "markdown",
   "metadata": {},
   "source": [
    "### 1.1 Lectura de archivos"
   ]
  },
  {
   "cell_type": "markdown",
   "metadata": {},
   "source": [
    "Un archivo en python se abre mendiante mediante la sentencia `open`, cuya sintaxis es la siguiente"
   ]
  },
  {
   "cell_type": "markdown",
   "metadata": {},
   "source": [
    "```\n",
    "filehandler = open('/path/to/my/file.extension', 'permiso')\n",
    "```"
   ]
  },
  {
   "cell_type": "markdown",
   "metadata": {},
   "source": [
    "Para lectura el permiso por defecto es `'r'` (del inglés _read_)"
   ]
  },
  {
   "cell_type": "code",
   "execution_count": 8,
   "metadata": {
    "collapsed": true
   },
   "outputs": [],
   "source": [
    "# Descargamos lor archivos de \n",
    "# http://sidc.oma.be/silso/datafiles\n",
    "# en CSV y TXT\n",
    "filehandler = open('SN_d_tot_V2.0.txt', 'r')"
   ]
  },
  {
   "cell_type": "code",
   "execution_count": 9,
   "metadata": {},
   "outputs": [
    {
     "data": {
      "text/plain": [
       "_io.TextIOWrapper"
      ]
     },
     "execution_count": 9,
     "metadata": {},
     "output_type": "execute_result"
    }
   ],
   "source": [
    "type(filehandler)"
   ]
  },
  {
   "cell_type": "code",
   "execution_count": 10,
   "metadata": {},
   "outputs": [
    {
     "data": {
      "text/plain": [
       "['_CHUNK_SIZE',\n",
       " '__class__',\n",
       " '__del__',\n",
       " '__delattr__',\n",
       " '__dict__',\n",
       " '__dir__',\n",
       " '__doc__',\n",
       " '__enter__',\n",
       " '__eq__',\n",
       " '__exit__',\n",
       " '__format__',\n",
       " '__ge__',\n",
       " '__getattribute__',\n",
       " '__getstate__',\n",
       " '__gt__',\n",
       " '__hash__',\n",
       " '__init__',\n",
       " '__init_subclass__',\n",
       " '__iter__',\n",
       " '__le__',\n",
       " '__lt__',\n",
       " '__ne__',\n",
       " '__new__',\n",
       " '__next__',\n",
       " '__reduce__',\n",
       " '__reduce_ex__',\n",
       " '__repr__',\n",
       " '__setattr__',\n",
       " '__sizeof__',\n",
       " '__str__',\n",
       " '__subclasshook__',\n",
       " '_checkClosed',\n",
       " '_checkReadable',\n",
       " '_checkSeekable',\n",
       " '_checkWritable',\n",
       " '_finalizing',\n",
       " 'buffer',\n",
       " 'close',\n",
       " 'closed',\n",
       " 'detach',\n",
       " 'encoding',\n",
       " 'errors',\n",
       " 'fileno',\n",
       " 'flush',\n",
       " 'isatty',\n",
       " 'line_buffering',\n",
       " 'mode',\n",
       " 'name',\n",
       " 'newlines',\n",
       " 'read',\n",
       " 'readable',\n",
       " 'readline',\n",
       " 'readlines',\n",
       " 'seek',\n",
       " 'seekable',\n",
       " 'tell',\n",
       " 'truncate',\n",
       " 'writable',\n",
       " 'write',\n",
       " 'writelines']"
      ]
     },
     "execution_count": 10,
     "metadata": {},
     "output_type": "execute_result"
    }
   ],
   "source": [
    "# dir\n",
    "# __property_name__: magical function (solo para uso interno, jamas usar directamente)\n",
    "# _propertname     : funcion interna (solo para uso interno, preferible no usarflos directamente)\n",
    "# ptoperty_name    : usar libre mente\n",
    "dir(filehandler)"
   ]
  },
  {
   "cell_type": "code",
   "execution_count": 11,
   "metadata": {
    "scrolled": false
   },
   "outputs": [],
   "source": [
    "# La funcion read una vez que se empleado nos lleva al final del archivo\n",
    "filecontents = filehandler.read()"
   ]
  },
  {
   "cell_type": "code",
   "execution_count": 12,
   "metadata": {},
   "outputs": [
    {
     "data": {
      "text/plain": [
       "''"
      ]
     },
     "execution_count": 12,
     "metadata": {},
     "output_type": "execute_result"
    }
   ],
   "source": [
    "# Al ejecutar nuevamente la funcion read nos devuelve un string vacio\n",
    "filehandler.read()"
   ]
  },
  {
   "cell_type": "code",
   "execution_count": 16,
   "metadata": {},
   "outputs": [
    {
     "name": "stdout",
     "output_type": "stream",
     "text": [
      "<class 'list'>\n",
      "72957\n",
      "['1818  1 01 1818.001   -1  -1.0    0  \\n', '1818  1 02 1818.004   -1  -1.0    0  \\n', '1818  1 03 1818.007   -1  -1.0    0  \\n', '1818  1 04 1818.010   -1  -1.0    0  \\n', '1818  1 05 1818.012   -1  -1.0    0  \\n', '1818  1 06 1818.015   -1  -1.0    0  \\n', '1818  1 07 1818.018   -1  -1.0    0  \\n', '1818  1 08 1818.021   65  10.2    1  \\n', '1818  1 09 1818.023   -1  -1.0    0  \\n', '1818  1 10 1818.026   -1  -1.0    0  \\n']\n"
     ]
    }
   ],
   "source": [
    "filehandler = open('SN_d_tot_V2.0.txt', 'r')\n",
    "filecontents = filehandler.readlines()\n",
    "print(type(filecontents))\n",
    "print(len(filecontents))\n",
    "print(filecontents[0:10])"
   ]
  },
  {
   "cell_type": "code",
   "execution_count": 26,
   "metadata": {},
   "outputs": [
    {
     "name": "stdout",
     "output_type": "stream",
     "text": [
      "[1818, 1, 1, 1818.001, -1, -1.0, 0]\n",
      "[1818, 1, 2, 1818.004, -1, -1.0, 0]\n",
      "[1818, 1, 3, 1818.007, -1, -1.0, 0]\n",
      "[1818, 1, 4, 1818.01, -1, -1.0, 0]\n",
      "[1818, 1, 5, 1818.012, -1, -1.0, 0]\n",
      "[1818, 1, 6, 1818.015, -1, -1.0, 0]\n",
      "[1818, 1, 7, 1818.018, -1, -1.0, 0]\n",
      "[1818, 1, 8, 1818.021, 65, 10.2, 1]\n",
      "[1818, 1, 9, 1818.023, -1, -1.0, 0]\n",
      "[1818, 1, 10, 1818.026, -1, -1.0, 0]\n"
     ]
    }
   ],
   "source": [
    "# La funcion strip('texto') nos permite eliminar el 'texto' sobrante\n",
    "# La funcion append sirve para añadir valores a una lista\n",
    "data = []\n",
    "\n",
    "for line in filecontents[0:10]:\n",
    "    line = line.strip('\\n')\n",
    "    line = line.split()\n",
    "    line[0] = int(line[0])\n",
    "    line[1] = int(line[1])\n",
    "    line[2] = int(line[2])\n",
    "    line[3] = float(line[3])\n",
    "    line[4] = int(line[4])\n",
    "    line[5] = float(line[5])\n",
    "    line[6] = int(line[6])\n",
    "    data.append(line)\n",
    "    print(line)"
   ]
  },
  {
   "cell_type": "code",
   "execution_count": 27,
   "metadata": {},
   "outputs": [
    {
     "name": "stdout",
     "output_type": "stream",
     "text": [
      "[[1818, 1, 1, 1818.001, -1, -1.0, 0], [1818, 1, 2, 1818.004, -1, -1.0, 0], [1818, 1, 3, 1818.007, -1, -1.0, 0], [1818, 1, 4, 1818.01, -1, -1.0, 0], [1818, 1, 5, 1818.012, -1, -1.0, 0], [1818, 1, 6, 1818.015, -1, -1.0, 0], [1818, 1, 7, 1818.018, -1, -1.0, 0], [1818, 1, 8, 1818.021, 65, 10.2, 1], [1818, 1, 9, 1818.023, -1, -1.0, 0], [1818, 1, 10, 1818.026, -1, -1.0, 0]]\n"
     ]
    }
   ],
   "source": [
    "print(data)"
   ]
  },
  {
   "cell_type": "code",
   "execution_count": 29,
   "metadata": {},
   "outputs": [
    {
     "name": "stdout",
     "output_type": "stream",
     "text": [
      "[(1818, 1818, 1818, 1818, 1818, 1818, 1818, 1818, 1818, 1818), (1, 1, 1, 1, 1, 1, 1, 1, 1, 1), (1, 2, 3, 4, 5, 6, 7, 8, 9, 10), (1818.001, 1818.004, 1818.007, 1818.01, 1818.012, 1818.015, 1818.018, 1818.021, 1818.023, 1818.026), (-1, -1, -1, -1, -1, -1, -1, 65, -1, -1), (-1.0, -1.0, -1.0, -1.0, -1.0, -1.0, -1.0, 10.2, -1.0, -1.0), (0, 0, 0, 0, 0, 0, 0, 1, 0, 0)]\n"
     ]
    }
   ],
   "source": [
    "print(list(zip(*data)))"
   ]
  },
  {
   "cell_type": "code",
   "execution_count": 31,
   "metadata": {},
   "outputs": [
    {
     "name": "stdout",
     "output_type": "stream",
     "text": [
      "1818  1 01 1818.001   -1  -1.0    0  \n",
      "\n",
      "1818  1 02 1818.004   -1  -1.0    0  \n",
      "\n",
      "1818  1 03 1818.007   -1  -1.0    0  \n",
      "\n",
      "1818  1 04 1818.010   -1  -1.0    0  \n",
      "\n",
      "1818  1 05 1818.012   -1  -1.0    0  \n",
      "\n"
     ]
    }
   ],
   "source": [
    "filehandler = open('SN_d_tot_V2.0.txt', 'r')\n",
    "\n",
    "n = 0\n",
    "for line in filehandler:\n",
    "    print(line)\n",
    "    n = n + 1\n",
    "    if n >= 5:\n",
    "        break"
   ]
  },
  {
   "cell_type": "code",
   "execution_count": 33,
   "metadata": {},
   "outputs": [
    {
     "name": "stdout",
     "output_type": "stream",
     "text": [
      "1818  1 01 1818.001   -1  -1.0    0  \n",
      "\n",
      "1818  1 02 1818.004   -1  -1.0    0  \n",
      "\n",
      "1818  1 03 1818.007   -1  -1.0    0  \n",
      "\n",
      "1818  1 04 1818.010   -1  -1.0    0  \n",
      "\n",
      "1818  1 05 1818.012   -1  -1.0    0  \n",
      "\n"
     ]
    }
   ],
   "source": [
    "filehandler = open('SN_d_tot_V2.0.txt', 'r')\n",
    "\n",
    "for n, line in enumerate(filehandler):\n",
    "    print(line)\n",
    "    if n >= 4:\n",
    "        break"
   ]
  },
  {
   "cell_type": "code",
   "execution_count": 46,
   "metadata": {},
   "outputs": [],
   "source": [
    "filehandler = open('SN_d_tot_V2.0.txt', 'r')\n",
    "\n",
    "data = []\n",
    "for n, line in enumerate(filehandler):\n",
    "    # Eliminar els alto de linea al final\n",
    "    line = line.strip('\\n') \n",
    "    # Dividir la linea en los espacio vacios\n",
    "    line = line.split()\n",
    "    for i, _ in enumerate(line):\n",
    "        if i == 3 or i == 5:\n",
    "            line[i] = float(line[i])\n",
    "        else:\n",
    "            line[i] = int(line[i])\n",
    "    \n",
    "    data.append(line)\n",
    "    \n",
    "    if n >= 5:\n",
    "        break"
   ]
  },
  {
   "cell_type": "code",
   "execution_count": 47,
   "metadata": {},
   "outputs": [
    {
     "data": {
      "text/plain": [
       "[[1818, 1, 1, 1818.001, -1, -1.0, 0],\n",
       " [1818, 1, 2, 1818.004, -1, -1.0, 0],\n",
       " [1818, 1, 3, 1818.007, -1, -1.0, 0],\n",
       " [1818, 1, 4, 1818.01, -1, -1.0, 0],\n",
       " [1818, 1, 5, 1818.012, -1, -1.0, 0],\n",
       " [1818, 1, 6, 1818.015, -1, -1.0, 0],\n",
       " [1818, 1, 7, 1818.018, -1, -1.0, 0],\n",
       " [1818, 1, 8, 1818.021, 65, 10.2, 1],\n",
       " [1818, 1, 9, 1818.023, -1, -1.0, 0],\n",
       " [1818, 1, 10, 1818.026, -1, -1.0, 0],\n",
       " [1818, 1, 11, 1818.029, -1, -1.0, 0]]"
      ]
     },
     "execution_count": 47,
     "metadata": {},
     "output_type": "execute_result"
    }
   ],
   "source": [
    "data"
   ]
  },
  {
   "cell_type": "code",
   "execution_count": 48,
   "metadata": {},
   "outputs": [
    {
     "data": {
      "text/plain": [
       "[(1818, 1818, 1818, 1818, 1818, 1818, 1818, 1818, 1818, 1818, 1818),\n",
       " (1, 1, 1, 1, 1, 1, 1, 1, 1, 1, 1),\n",
       " (1, 2, 3, 4, 5, 6, 7, 8, 9, 10, 11),\n",
       " (1818.001,\n",
       "  1818.004,\n",
       "  1818.007,\n",
       "  1818.01,\n",
       "  1818.012,\n",
       "  1818.015,\n",
       "  1818.018,\n",
       "  1818.021,\n",
       "  1818.023,\n",
       "  1818.026,\n",
       "  1818.029),\n",
       " (-1, -1, -1, -1, -1, -1, -1, 65, -1, -1, -1),\n",
       " (-1.0, -1.0, -1.0, -1.0, -1.0, -1.0, -1.0, 10.2, -1.0, -1.0, -1.0),\n",
       " (0, 0, 0, 0, 0, 0, 0, 1, 0, 0, 0)]"
      ]
     },
     "execution_count": 48,
     "metadata": {},
     "output_type": "execute_result"
    }
   ],
   "source": [
    "list(zip(*data))"
   ]
  },
  {
   "cell_type": "markdown",
   "metadata": {},
   "source": [
    "### 1.2 Escritura"
   ]
  },
  {
   "cell_type": "markdown",
   "metadata": {},
   "source": [
    "Para escribir sobre un archivo primero debemos abrirlo con permisos de escritura (`'w'` del ingles _write_) y luego la funcion `write` sobre el contenido que deseamos guardar"
   ]
  },
  {
   "cell_type": "code",
   "execution_count": 67,
   "metadata": {},
   "outputs": [],
   "source": [
    "# Escriba un archivo que tenga una lista de numeros del 1 al 10 en una columna\n",
    "# y sus cuadrados en otra columna\n",
    "filehandler = open('sqares.txt', 'w')\n",
    "\n",
    "for i in range(1,11):\n",
    "    filehandler.write('{0:>2d}    {1:>3d}\\n'.format(i, i**2))\n",
    "    \n",
    "# Con close cerramos nuestro archivo\n",
    "filehandler.close()"
   ]
  },
  {
   "cell_type": "code",
   "execution_count": 68,
   "metadata": {
    "collapsed": true
   },
   "outputs": [],
   "source": [
    "# open(filename, 'w') nos genera un archivo vacío\n",
    "filehandler = open('empty.txt', 'w')\n",
    "filehandler.close()"
   ]
  },
  {
   "cell_type": "code",
   "execution_count": 71,
   "metadata": {
    "collapsed": true
   },
   "outputs": [],
   "source": [
    "# Escriba un archivo que tenga una lista de numeros del 1 al 10 en una columna\n",
    "# y sus cuadrados en otra columna\n",
    "filehandler = open('sqares2.txt', 'w')\n",
    "\n",
    "for i in range(1,11):\n",
    "    filehandler.writelines('{0:>2d}    {1:>3d}\\n'.format(i, i**2))\n",
    "    \n",
    "# Con close cerramos nuestro archivo\n",
    "filehandler.close()"
   ]
  },
  {
   "cell_type": "code",
   "execution_count": 72,
   "metadata": {},
   "outputs": [
    {
     "name": "stdout",
     "output_type": "stream",
     "text": [
      "Help on built-in function writelines:\n",
      "\n",
      "writelines(lines, /) method of _io.TextIOWrapper instance\n",
      "\n"
     ]
    }
   ],
   "source": [
    "help(filehandler.writelines)"
   ]
  },
  {
   "cell_type": "code",
   "execution_count": 73,
   "metadata": {},
   "outputs": [
    {
     "name": "stdout",
     "output_type": "stream",
     "text": [
      "Help on built-in function write:\n",
      "\n",
      "write(text, /) method of _io.TextIOWrapper instance\n",
      "    Write string to stream.\n",
      "    Returns the number of characters written (which is always equal to\n",
      "    the length of the string).\n",
      "\n"
     ]
    }
   ],
   "source": [
    "help(filehandler.write)"
   ]
  },
  {
   "cell_type": "code",
   "execution_count": null,
   "metadata": {
    "collapsed": true
   },
   "outputs": [],
   "source": [
    "# Cuando tenemos dudas de algunas funciones de python podemos consultar la \n",
    "# documentacion oficial en: https://docs.python.org/3/\n"
   ]
  },
  {
   "cell_type": "code",
   "execution_count": 76,
   "metadata": {
    "collapsed": true
   },
   "outputs": [],
   "source": [
    "filehandler = open('table12.txt', 'w')\n",
    "\n",
    "for i in range(0,13):\n",
    "    filehandler.write('{0:>2d} x 12 = {1:>3d}\\n'.format(i, i*12))\n",
    "\n",
    "filehandler.close()"
   ]
  },
  {
   "cell_type": "code",
   "execution_count": 92,
   "metadata": {},
   "outputs": [
    {
     "name": "stdout",
     "output_type": "stream",
     "text": [
      "¿Que tabla deseas? : 10\n",
      "¡Tu tabla ha sido generada exitosamente!\n"
     ]
    }
   ],
   "source": [
    "table = input('¿Que tabla deseas? : ')\n",
    "\n",
    "error = False\n",
    "try:\n",
    "    table = int(table)\n",
    "except Exception:\n",
    "    print('El valor ingresado no se puede convertir a entero')\n",
    "    error = True\n",
    "\n",
    "if error:\n",
    "    print('Lo sentimos, no podemos general la tabla :(')\n",
    "else:\n",
    "    filename = 'table{0}.txt'.format(table)\n",
    "\n",
    "    filehandler = open(filename, 'w')\n",
    "\n",
    "    for i in range(0,13):\n",
    "        filehandler.write('{0} x {1} = {2}\\n'.format(i, table, i*table))\n",
    "\n",
    "    filehandler.close()\n",
    "    print('¡Tu tabla ha sido generada exitosamente!')"
   ]
  },
  {
   "cell_type": "code",
   "execution_count": null,
   "metadata": {
    "collapsed": true
   },
   "outputs": [],
   "source": []
  }
 ],
 "metadata": {
  "kernelspec": {
   "display_name": "Python 3",
   "language": "python",
   "name": "python3"
  },
  "language_info": {
   "codemirror_mode": {
    "name": "ipython",
    "version": 3
   },
   "file_extension": ".py",
   "mimetype": "text/x-python",
   "name": "python",
   "nbconvert_exporter": "python",
   "pygments_lexer": "ipython3",
   "version": "3.6.1"
  }
 },
 "nbformat": 4,
 "nbformat_minor": 2
}
