{
 "cells": [
  {
   "cell_type": "markdown",
   "metadata": {},
   "source": [
    "<div class=\"clearfix\" style=\"padding: 10px; padding-left: 0px\">\n",
    "<img src=\"../resources/img/softbutterfly-logo.png\" class=\"pull-left\" style=\"display: block; height: 40px; margin: 0;\"><img src=\"../resources/img/jupyter-logo.png\" class=\"pull-right\"  style=\"display: block; height: 20px; margin-top: 10px;\">\n",
    "</div>"
   ]
  },
  {
   "cell_type": "markdown",
   "metadata": {},
   "source": [
    "<h1>\n",
    "Curso de Python Básico<br/>\n",
    "<small>Con aplicaciones en ciencias e ingeniería</small><br/>\n",
    "<small><small>Clase del 23 de septiembre del 2017</small></small><br/>\n",
    "</h1>"
   ]
  },
  {
   "cell_type": "markdown",
   "metadata": {},
   "source": [
    "<div style=\"text-align:center\">\n",
    "<strong>Martín Josemaría Vuelta Rojas</strong><br/>\n",
    "<code><a href=\"https://github.com/zodiacfireworks\" target=\"_blank\">@zodiacfireworks</a></code><br/>\n",
    "<br/>\n",
    "<em>Universidad Nacional Mayor de San Marcos</em><br/>\n",
    "<span>Facultad de Ciencias Físicas</span><br>\n",
    "<br>\n",
    "<i>SoftButterfly</i><br>\n",
    "<span>Cofundador y Líder del Área de Desarrollo</span>\n",
    "</div>"
   ]
  },
  {
   "cell_type": "markdown",
   "metadata": {},
   "source": [
    "## 1 Instrucciones básicas"
   ]
  },
  {
   "cell_type": "markdown",
   "metadata": {},
   "source": [
    "### 1.1 Hola mundo"
   ]
  },
  {
   "cell_type": "code",
   "execution_count": 1,
   "metadata": {},
   "outputs": [
    {
     "name": "stdout",
     "output_type": "stream",
     "text": [
      "Hola mundo!\n"
     ]
    }
   ],
   "source": [
    "print('Hola mundo!')"
   ]
  },
  {
   "cell_type": "markdown",
   "metadata": {},
   "source": [
    "#### Versión con comentarios y la función `print`"
   ]
  },
  {
   "cell_type": "code",
   "execution_count": 2,
   "metadata": {},
   "outputs": [
    {
     "name": "stdout",
     "output_type": "stream",
     "text": [
      "Hola mundo!\n"
     ]
    }
   ],
   "source": [
    "# Comentarios:\n",
    "# 1. El comentario se marca con el simbolo `#`\n",
    "# 2. La función `print` sirve para imprimir y\n",
    "#    mostrar la salida de los programar\n",
    "#\n",
    "#    La sintaxis es:\n",
    "#        print('cadena de texto')\n",
    "\n",
    "#    Ejemplo: Hola mundo\n",
    "#    >>> print('Hola mundo!')\n",
    "#\n",
    "print('Hola mundo!')"
   ]
  },
  {
   "cell_type": "markdown",
   "metadata": {},
   "source": [
    "### 1.2 ¡Qué el mundo repita lo que digo!"
   ]
  },
  {
   "cell_type": "code",
   "execution_count": 3,
   "metadata": {},
   "outputs": [
    {
     "name": "stdout",
     "output_type": "stream",
     "text": [
      "- ¡Hola humano!\n",
      "¡Hola Python!\n",
      "- ¡Hola Python! x2 :v\n"
     ]
    }
   ],
   "source": [
    "greetings = input('- ¡Hola humano!\\n')\n",
    "print('-', greetings, 'x2 :v')"
   ]
  },
  {
   "cell_type": "code",
   "execution_count": 4,
   "metadata": {},
   "outputs": [
    {
     "name": "stdout",
     "output_type": "stream",
     "text": [
      "- ¡Hola humano!\n",
      "¡Hola Python!\n",
      "- ¡Hola Python! x2 :v\n"
     ]
    }
   ],
   "source": [
    "# Comentarios:\n",
    "# 1. La función `input` sirve para recibir\n",
    "#    los datos proporcinados por el usuario.\n",
    "#\n",
    "#    La sintaxis es:\n",
    "#        input('prompt')\n",
    "#\n",
    "# 2. La valor retornado por la función `input`\n",
    "#    es la informaciòn ingresada por el usuario.\n",
    "#\n",
    "#    bar = input('prompt')\n",
    "#\n",
    "# 3. La secuencia `\\n` es representa un salto\n",
    "#    de línea, secuencias de ese tipo se\n",
    "#    denominan SECUENCIAS DE ESCAPE\n",
    "#\n",
    "greetings = input('- ¡Hola humano!\\n')\n",
    "print('-', greetings, 'x2 :v')"
   ]
  },
  {
   "cell_type": "markdown",
   "metadata": {},
   "source": [
    "### 1.3 Un primer programa _útil_: El área del círculo"
   ]
  },
  {
   "cell_type": "code",
   "execution_count": 5,
   "metadata": {},
   "outputs": [
    {
     "name": "stdout",
     "output_type": "stream",
     "text": [
      "Ingrese el radio [m]: 5\n",
      "El area es: 78.5398 m^2\n"
     ]
    }
   ],
   "source": [
    "radius = input('Ingrese el radio [m]: ')\n",
    "radius = float(radius)\n",
    "area = 3.141592*radius*radius\n",
    "print('El area es:', area, 'm^2')"
   ]
  },
  {
   "cell_type": "markdown",
   "metadata": {},
   "source": [
    "#### ¿Comentarios?"
   ]
  },
  {
   "cell_type": "code",
   "execution_count": 6,
   "metadata": {},
   "outputs": [
    {
     "name": "stdout",
     "output_type": "stream",
     "text": [
      "Ingrese el radio [m]: 5\n",
      "El area es: 78.5398 m^2\n"
     ]
    }
   ],
   "source": [
    "# 1. Solicitamos el ingreso del radio en metros\n",
    "radius = input('Ingrese el radio [m]: ')\n",
    "\n",
    "# 2. El radio ingresado es interpretado como texto\n",
    "#    y con la función `float` lo convierte a número\n",
    "#    decimal.\n",
    "radius = float(radius)\n",
    "\n",
    "# 3. Empleamos la formula habitual de pi*r^2\n",
    "area = 3.141592*radius*radius\n",
    "\n",
    "# 4. Imprimimos el resultado :D\n",
    "print('El area es:', area, 'm^2')"
   ]
  },
  {
   "cell_type": "markdown",
   "metadata": {},
   "source": [
    "#### Nota adicional"
   ]
  },
  {
   "cell_type": "markdown",
   "metadata": {},
   "source": [
    "La función `float` permite convertir texto a números reales.\n",
    "Su sintaxis es\n",
    "\n",
    "```\n",
    "float('nuero como texto')\n",
    "```"
   ]
  },
  {
   "cell_type": "markdown",
   "metadata": {},
   "source": [
    "## 2. Variables y tipos de datos"
   ]
  },
  {
   "cell_type": "markdown",
   "metadata": {},
   "source": [
    "### 2.1. Variables"
   ]
  },
  {
   "cell_type": "markdown",
   "metadata": {},
   "source": [
    "Tal como lo hemos venido haciendo en ejemplos anteriores, para declarar variables en Python se emplea el operdor de asignación (`=`). Su sintaxis es:"
   ]
  },
  {
   "cell_type": "markdown",
   "metadata": {},
   "source": [
    "```\n",
    "variable_name = variable_value\n",
    "```"
   ]
  },
  {
   "cell_type": "markdown",
   "metadata": {},
   "source": [
    "#### Ejemplos"
   ]
  },
  {
   "cell_type": "code",
   "execution_count": 7,
   "metadata": {},
   "outputs": [
    {
     "name": "stdout",
     "output_type": "stream",
     "text": [
      "<class 'str'> : Hola mamá\n"
     ]
    }
   ],
   "source": [
    "# 1. La función print acepta multiples argumentos separados \n",
    "#    por comas y los imprime uno a continuación del otro.\n",
    "# 2. La función `type` nos permite saber que tipo de dato \n",
    "#    es el que esta almacenado en nuestra varaible.\n",
    "\n",
    "x = 'Hola mamá'\n",
    "\n",
    "print(type(x), ':', x)"
   ]
  },
  {
   "cell_type": "code",
   "execution_count": 8,
   "metadata": {},
   "outputs": [
    {
     "name": "stdout",
     "output_type": "stream",
     "text": [
      "<class 'complex'> : (5+3j)\n"
     ]
    }
   ],
   "source": [
    "x = 5 + 3j \n",
    "\n",
    "print(type(x), ':', x)"
   ]
  },
  {
   "cell_type": "code",
   "execution_count": 9,
   "metadata": {},
   "outputs": [
    {
     "name": "stdout",
     "output_type": "stream",
     "text": [
      "<class 'type'> : <class 'type'>\n"
     ]
    }
   ],
   "source": [
    "x = type\n",
    "\n",
    "print(type(x), ':', x)"
   ]
  },
  {
   "cell_type": "code",
   "execution_count": 10,
   "metadata": {},
   "outputs": [
    {
     "name": "stdout",
     "output_type": "stream",
     "text": [
      "<class 'builtin_function_or_method'> : <built-in function print>\n"
     ]
    }
   ],
   "source": [
    "x = print\n",
    "\n",
    "print(type(x), ':', x)"
   ]
  },
  {
   "cell_type": "code",
   "execution_count": 11,
   "metadata": {},
   "outputs": [
    {
     "name": "stdout",
     "output_type": "stream",
     "text": [
      "<class 'method'> : <bound method Kernel.raw_input of <ipykernel.ipkernel.IPythonKernel object at 0x7f2c1ce22198>>\n"
     ]
    }
   ],
   "source": [
    "x = input\n",
    "\n",
    "print(type(x), ':', x)"
   ]
  },
  {
   "cell_type": "markdown",
   "metadata": {},
   "source": [
    "### 2.2. Tipos de datos"
   ]
  },
  {
   "cell_type": "markdown",
   "metadata": {},
   "source": [
    "#### 2.2.1. Booleanos"
   ]
  },
  {
   "cell_type": "markdown",
   "metadata": {},
   "source": [
    "Los tipos boleanos (`bool`) sirven para almancenar el valor de verdad de las prosposiciones. Se represetan mendiante las palabras `True` y `False`. Haciendo uso de la función `bool` se puede convertir cualquier expresion que admita un valor de verdad en booleano."
   ]
  },
  {
   "cell_type": "markdown",
   "metadata": {},
   "source": [
    "#### Ejemplos"
   ]
  },
  {
   "cell_type": "code",
   "execution_count": 13,
   "metadata": {},
   "outputs": [
    {
     "name": "stdout",
     "output_type": "stream",
     "text": [
      "<class 'bool'> , <class 'bool'>\n"
     ]
    }
   ],
   "source": [
    "x = True\n",
    "y = False\n",
    "\n",
    "print(type(x), ',', type(y))"
   ]
  },
  {
   "cell_type": "code",
   "execution_count": 14,
   "metadata": {},
   "outputs": [
    {
     "data": {
      "text/plain": [
       "(True, True, True)"
      ]
     },
     "execution_count": 14,
     "metadata": {},
     "output_type": "execute_result"
    }
   ],
   "source": [
    "# `is` es UN operador comparación (de identidad) (veremos más sobre el después en el curso)\n",
    "# `not` es el operador lógico de negación\n",
    "# `or` es el operador lógico de conjunción\n",
    "This = 0\n",
    "love = This\n",
    "\n",
    "This is love, love is not True or False, love is love"
   ]
  },
  {
   "cell_type": "code",
   "execution_count": 15,
   "metadata": {},
   "outputs": [
    {
     "name": "stdout",
     "output_type": "stream",
     "text": [
      "<class 'int'> : False\n"
     ]
    }
   ],
   "source": [
    "x = 5\n",
    "x_bool = bool(0)\n",
    "\n",
    "print(type(x), ':', x_bool)"
   ]
  },
  {
   "cell_type": "code",
   "execution_count": 16,
   "metadata": {},
   "outputs": [
    {
     "name": "stdout",
     "output_type": "stream",
     "text": [
      "<class 'str'> : False\n"
     ]
    }
   ],
   "source": [
    "x = ''\n",
    "x_bool = bool('')\n",
    "\n",
    "print(type(x), ':', x_bool)"
   ]
  },
  {
   "cell_type": "markdown",
   "metadata": {},
   "source": [
    "#### 2.2.2 Números enteros"
   ]
  },
  {
   "cell_type": "markdown",
   "metadata": {},
   "source": [
    "Una variable de tipo `integer` o entero sólo puede guardar números enteros. Las expresiones que se puedan representar como numeros enteros se pueden convertir en tipos integer mediante la función `int`."
   ]
  },
  {
   "cell_type": "markdown",
   "metadata": {},
   "source": [
    "#### Ejemlos"
   ]
  },
  {
   "cell_type": "code",
   "execution_count": 17,
   "metadata": {},
   "outputs": [
    {
     "name": "stdout",
     "output_type": "stream",
     "text": [
      "<class 'int'> : -5\n"
     ]
    }
   ],
   "source": [
    "x = -5\n",
    "\n",
    "print(type(x), ':', x)"
   ]
  },
  {
   "cell_type": "code",
   "execution_count": 18,
   "metadata": {},
   "outputs": [
    {
     "name": "stdout",
     "output_type": "stream",
     "text": [
      "<class 'int'> : 5\n"
     ]
    }
   ],
   "source": [
    "x = int(5.12)\n",
    "\n",
    "print(type(x), ':', x)"
   ]
  },
  {
   "cell_type": "code",
   "execution_count": 19,
   "metadata": {},
   "outputs": [
    {
     "name": "stdout",
     "output_type": "stream",
     "text": [
      "<class 'int'> : 25\n"
     ]
    }
   ],
   "source": [
    "x = int('25')\n",
    "\n",
    "print(type(x), ':', x)"
   ]
  },
  {
   "cell_type": "markdown",
   "metadata": {},
   "source": [
    "#### 2.2.3 Números decimales"
   ]
  },
  {
   "cell_type": "markdown",
   "metadata": {},
   "source": [
    "Los numeros decimales se almacenan en variables de tipo `float`. Las expresiones que se puedan representar como numeros decimales se pueden convertir en tipos `float` mediante la función `float`."
   ]
  },
  {
   "cell_type": "markdown",
   "metadata": {},
   "source": [
    "#### Ejemlos"
   ]
  },
  {
   "cell_type": "code",
   "execution_count": 20,
   "metadata": {},
   "outputs": [
    {
     "name": "stdout",
     "output_type": "stream",
     "text": [
      "<class 'float'> : 3.141516\n"
     ]
    }
   ],
   "source": [
    "x = 3.141516\n",
    "\n",
    "print(type(x), ':', x)"
   ]
  },
  {
   "cell_type": "code",
   "execution_count": 21,
   "metadata": {},
   "outputs": [
    {
     "name": "stdout",
     "output_type": "stream",
     "text": [
      "<class 'float'> : 5.0\n"
     ]
    }
   ],
   "source": [
    "x = float(5)\n",
    "\n",
    "print(type(x), ':', x)"
   ]
  },
  {
   "cell_type": "code",
   "execution_count": 22,
   "metadata": {},
   "outputs": [
    {
     "name": "stdout",
     "output_type": "stream",
     "text": [
      "<class 'float'> : 2.718281828\n"
     ]
    }
   ],
   "source": [
    "x = float('2.718281828')\n",
    "\n",
    "print(type(x), ':', x)"
   ]
  },
  {
   "cell_type": "code",
   "execution_count": 23,
   "metadata": {},
   "outputs": [
    {
     "name": "stdout",
     "output_type": "stream",
     "text": [
      "5 es int mientras que 5.0 es float\n"
     ]
    }
   ],
   "source": [
    "# 1. Un número decimal siempre estará seguido de un `.`, así\n",
    "#    5 es diferente de 5.0\n",
    "# 2. Para obtener el nombre d eun tipo se usa la propiedad __name__\n",
    "\n",
    "x = 5\n",
    "y = float(5)\n",
    "\n",
    "print(x, 'es', type(x).__name__, 'mientras que', y, 'es', type(y).__name__)"
   ]
  },
  {
   "cell_type": "markdown",
   "metadata": {},
   "source": [
    "#### 2.2.4. Listas"
   ]
  },
  {
   "cell_type": "code",
   "execution_count": 24,
   "metadata": {},
   "outputs": [
    {
     "name": "stdout",
     "output_type": "stream",
     "text": [
      "<class 'list'>\n"
     ]
    }
   ],
   "source": [
    "x = [1, 2, 3, 5, 'ups...']\n",
    "\n",
    "print(type(x))"
   ]
  },
  {
   "cell_type": "code",
   "execution_count": 25,
   "metadata": {},
   "outputs": [
    {
     "name": "stdout",
     "output_type": "stream",
     "text": [
      "1 kg de fideos\n",
      "4 tomates\n",
      "1 zanahoria grande\n",
      "Hongos y laurel\n",
      "1/2 kg de papas\n",
      "2 Ajies amarillos\n"
     ]
    }
   ],
   "source": [
    "# 1. Algunos ingredientes para hacer tallarínes con papa a la huancaina para 4 personas\n",
    "# 2. Esta es la primera aparición del bucle `for`. En python la \n",
    "#    la iteración con el bucle for se hace por elementos. En este caso\n",
    "#    no usamos indices para obtener el elemento sino que lo empleamos \n",
    "#    directamente.\n",
    "\n",
    "for el in ['1 kg de fideos', '4 tomates', '1 zanahoria grande', 'Hongos y laurel', '1/2 kg de papas', '2 Ajies amarillos']:\n",
    "    print(el)"
   ]
  },
  {
   "cell_type": "markdown",
   "metadata": {},
   "source": [
    "#### 2.2.5. Tuplas"
   ]
  },
  {
   "cell_type": "code",
   "execution_count": 26,
   "metadata": {},
   "outputs": [
    {
     "name": "stdout",
     "output_type": "stream",
     "text": [
      "<class 'tuple'>\n"
     ]
    }
   ],
   "source": [
    "x = (1, 2, 3, 5, 'ups...')\n",
    "\n",
    "print(type(x))"
   ]
  },
  {
   "cell_type": "markdown",
   "metadata": {},
   "source": [
    "El verdadero contrcutor de la tupla es la coma (`,`)"
   ]
  },
  {
   "cell_type": "code",
   "execution_count": 27,
   "metadata": {},
   "outputs": [
    {
     "name": "stdout",
     "output_type": "stream",
     "text": [
      "<class 'tuple'>\n"
     ]
    }
   ],
   "source": [
    "y = 'only one',\n",
    "\n",
    "print(type(y))"
   ]
  },
  {
   "cell_type": "markdown",
   "metadata": {},
   "source": [
    "#### 2.2.6. Conjuntos"
   ]
  },
  {
   "cell_type": "code",
   "execution_count": 36,
   "metadata": {},
   "outputs": [
    {
     "name": "stdout",
     "output_type": "stream",
     "text": [
      "<class 'set'>\n"
     ]
    }
   ],
   "source": [
    "x = {1, 2, 3, 4, 'okay'}\n",
    "\n",
    "print(type(x))"
   ]
  },
  {
   "cell_type": "markdown",
   "metadata": {},
   "source": [
    "Los elementos de un conjunto jamás se repiten"
   ]
  },
  {
   "cell_type": "code",
   "execution_count": 37,
   "metadata": {},
   "outputs": [
    {
     "name": "stdout",
     "output_type": "stream",
     "text": [
      "{1, 2, 3, 4, 'okay'}\n",
      "{1, 2, 3, 4, 'double one'}\n"
     ]
    }
   ],
   "source": [
    "x = {1, 2, 3, 4, 'okay'}\n",
    "y = {1, 1, 2, 2, 3, 4, 'double one'}\n",
    "\n",
    "print(x)\n",
    "print(y)"
   ]
  },
  {
   "cell_type": "markdown",
   "metadata": {},
   "source": [
    "#### 2.2.7. Diccionarios"
   ]
  },
  {
   "cell_type": "code",
   "execution_count": 38,
   "metadata": {},
   "outputs": [
    {
     "name": "stdout",
     "output_type": "stream",
     "text": [
      "<class 'dict'>\n"
     ]
    }
   ],
   "source": [
    "person = {\n",
    "    'Name': 'Johana',\n",
    "    'Lastname': 'Gonzales',\n",
    "    'Facultad': 'Sociales'\n",
    "}\n",
    "\n",
    "print(type(person))"
   ]
  },
  {
   "cell_type": "code",
   "execution_count": 39,
   "metadata": {},
   "outputs": [
    {
     "name": "stdout",
     "output_type": "stream",
     "text": [
      "<class 'dict'>\n"
     ]
    }
   ],
   "source": [
    "city = {\n",
    "    'Name': 'Lima',\n",
    "    'Foundation': {\n",
    "        'year': 1535,\n",
    "        'mes': 1,\n",
    "        'date': 18,\n",
    "    },\n",
    "    'Lat': 'S12°2\\'35.45\"',\n",
    "    'Lon': 'O77°1\\'41.66\"'\n",
    "}\n",
    "\n",
    "print(type(city))"
   ]
  },
  {
   "cell_type": "code",
   "execution_count": 40,
   "metadata": {},
   "outputs": [
    {
     "name": "stdout",
     "output_type": "stream",
     "text": [
      "<class 'dict'> {'id': 1, 'name': 'bulbasaur', 'base_experience': 64, 'height': 7, 'is_default': True, 'order': 1, 'weight': 69, 'abilities': [{'is_hidden': True, 'slot': 3, 'ability': {'name': 'chlorophyll', 'url': 'http://pokeapi.co/api/v2/ability/34/'}}], 'forms': [{'name': 'bulbasaur', 'url': 'http://pokeapi.co/api/v2/pokemon-form/1/'}], 'game_indices': [{'game_index': 1, 'version': {'name': 'white-2', 'url': 'http://pokeapi.co/api/v2/version/22/'}}], 'held_items': [], 'location_area_encounters': [], 'moves': [{'move': {'name': 'captivate', 'url': 'http://pokeapi.co/api/v2/move/445/'}, 'version_group_details': [{'level_learned_at': 0, 'version_group': {'name': 'heartgold-soulsilver', 'url': 'http://pokeapi.co/api/v2/version-group/10/'}, 'move_learn_method': {'name': 'machine', 'url': 'http://pokeapi.co/api/v2/move-learn-method/4/'}}, {'level_learned_at': 0, 'version_group': {'name': 'platinum', 'url': 'http://pokeapi.co/api/v2/version-group/9/'}, 'move_learn_method': {'name': 'machine', 'url': 'http://pokeapi.co/api/v2/move-learn-method/4/'}}, {'level_learned_at': 0, 'version_group': {'name': 'diamond-pearl', 'url': 'http://pokeapi.co/api/v2/version-group/8/'}, 'move_learn_method': {'name': 'machine', 'url': 'http://pokeapi.co/api/v2/move-learn-method/4/'}}]}], 'species': {'name': 'bulbasaur', 'url': 'http://pokeapi.co/api/v2/pokemon-species/1/'}, 'stats': [{'base_stat': 45, 'effort': 0, 'stat': {'name': 'speed', 'url': 'http://pokeapi.co/api/v2/stat/6/'}}], 'types': [{'slot': 2, 'type': {'name': 'poison', 'url': 'http://pokeapi.co/api/v2/type/4/'}}]}\n"
     ]
    }
   ],
   "source": [
    "import json\n",
    "\n",
    "response_text = \"\"\"\n",
    "{\n",
    "    \"id\": 1,\n",
    "    \"name\": \"bulbasaur\",\n",
    "    \"base_experience\": 64,\n",
    "    \"height\": 7,\n",
    "    \"is_default\": true,\n",
    "    \"order\": 1,\n",
    "    \"weight\": 69,\n",
    "    \"abilities\": [\n",
    "        {\n",
    "            \"is_hidden\": true,\n",
    "            \"slot\": 3,\n",
    "            \"ability\": {\n",
    "                \"name\": \"chlorophyll\",\n",
    "                \"url\": \"http://pokeapi.co/api/v2/ability/34/\"\n",
    "            }\n",
    "        }\n",
    "    ],\n",
    "    \"forms\": [\n",
    "        {\n",
    "            \"name\": \"bulbasaur\",\n",
    "            \"url\": \"http://pokeapi.co/api/v2/pokemon-form/1/\"\n",
    "        }\n",
    "    ],\n",
    "    \"game_indices\": [\n",
    "        {\n",
    "            \"game_index\": 1,\n",
    "            \"version\": {\n",
    "                \"name\": \"white-2\",\n",
    "                \"url\": \"http://pokeapi.co/api/v2/version/22/\"\n",
    "            }\n",
    "        }\n",
    "    ],\n",
    "    \"held_items\": [],\n",
    "    \"location_area_encounters\": [],\n",
    "    \"moves\": [\n",
    "        {\n",
    "            \"move\": {\n",
    "                \"name\": \"captivate\",\n",
    "                \"url\": \"http://pokeapi.co/api/v2/move/445/\"\n",
    "            },\n",
    "            \"version_group_details\": [\n",
    "                {\n",
    "                    \"level_learned_at\": 0,\n",
    "                    \"version_group\": {\n",
    "                        \"name\": \"heartgold-soulsilver\",\n",
    "                        \"url\": \"http://pokeapi.co/api/v2/version-group/10/\"\n",
    "                    },\n",
    "                    \"move_learn_method\": {\n",
    "                        \"name\": \"machine\",\n",
    "                        \"url\": \"http://pokeapi.co/api/v2/move-learn-method/4/\"\n",
    "                    }\n",
    "                },\n",
    "                {\n",
    "                    \"level_learned_at\": 0,\n",
    "                    \"version_group\": {\n",
    "                        \"name\": \"platinum\",\n",
    "                        \"url\": \"http://pokeapi.co/api/v2/version-group/9/\"\n",
    "                    },\n",
    "                    \"move_learn_method\": {\n",
    "                        \"name\": \"machine\",\n",
    "                        \"url\": \"http://pokeapi.co/api/v2/move-learn-method/4/\"\n",
    "                    }\n",
    "                },\n",
    "                {\n",
    "                    \"level_learned_at\": 0,\n",
    "                    \"version_group\": {\n",
    "                        \"name\": \"diamond-pearl\",\n",
    "                        \"url\": \"http://pokeapi.co/api/v2/version-group/8/\"\n",
    "                    },\n",
    "                    \"move_learn_method\": {\n",
    "                        \"name\": \"machine\",\n",
    "                        \"url\": \"http://pokeapi.co/api/v2/move-learn-method/4/\"\n",
    "                    }\n",
    "                }\n",
    "            ]\n",
    "        }\n",
    "    ],\n",
    "    \"species\": {\n",
    "        \"name\": \"bulbasaur\",\n",
    "        \"url\": \"http://pokeapi.co/api/v2/pokemon-species/1/\"\n",
    "    },\n",
    "    \"stats\": [\n",
    "        {\n",
    "            \"base_stat\": 45,\n",
    "            \"effort\": 0,\n",
    "            \"stat\": {\n",
    "                \"name\": \"speed\",\n",
    "                \"url\": \"http://pokeapi.co/api/v2/stat/6/\"\n",
    "            }\n",
    "        }\n",
    "    ],\n",
    "    \"types\": [\n",
    "        {\n",
    "            \"slot\": 2,\n",
    "            \"type\": {\n",
    "                \"name\": \"poison\",\n",
    "                \"url\": \"http://pokeapi.co/api/v2/type/4/\"\n",
    "            }\n",
    "        }\n",
    "    ]\n",
    "}\n",
    "\"\"\"\n",
    "\n",
    "bulbasaur = json.loads(response_text)\n",
    "\n",
    "print(type(bulbasaur), bulbasaur)"
   ]
  },
  {
   "cell_type": "code",
   "execution_count": 41,
   "metadata": {},
   "outputs": [
    {
     "data": {
      "text/plain": [
       "{'name': 'chlorophyll', 'url': 'http://pokeapi.co/api/v2/ability/34/'}"
      ]
     },
     "execution_count": 41,
     "metadata": {},
     "output_type": "execute_result"
    }
   ],
   "source": [
    "abilities = bulbasaur['abilities']\n",
    "ability_one = bulbasaur['abilities'][0]['ability']\n",
    "ability_one"
   ]
  },
  {
   "cell_type": "markdown",
   "metadata": {},
   "source": [
    "#### 2.2.8. La nada: `None`"
   ]
  },
  {
   "cell_type": "code",
   "execution_count": 42,
   "metadata": {},
   "outputs": [
    {
     "name": "stdout",
     "output_type": "stream",
     "text": [
      "<class 'NoneType'>\n"
     ]
    }
   ],
   "source": [
    "x = None\n",
    "\n",
    "print(type(x))"
   ]
  },
  {
   "cell_type": "markdown",
   "metadata": {},
   "source": [
    "### Notas adicionales"
   ]
  },
  {
   "cell_type": "markdown",
   "metadata": {},
   "source": [
    "<blockquote>\n",
    "Las listas son objetos mutables, es decir, su longitud puede variar permitiéndonos insertar y eliminar nuevos elementos.\n",
    "</blockquote>"
   ]
  },
  {
   "cell_type": "code",
   "execution_count": 47,
   "metadata": {},
   "outputs": [
    {
     "name": "stdout",
     "output_type": "stream",
     "text": [
      "[1, 2, 3, 4]\n"
     ]
    }
   ],
   "source": [
    "x_lista = [1, 2, 3, 5, 'ups...']\n",
    "x_lista.pop(-1)\n",
    "x_lista.pop(-1)\n",
    "x_lista.append(4)\n",
    "print(x_lista)"
   ]
  },
  {
   "cell_type": "markdown",
   "metadata": {},
   "source": [
    "<blockquote>\n",
    "    Las tuplas por el contrario son objetos inmutables: una vez definidas no \n",
    "    podemos añadir ni quitar elementos.\n",
    "</blockquote>"
   ]
  },
  {
   "cell_type": "code",
   "execution_count": 48,
   "metadata": {},
   "outputs": [
    {
     "ename": "AttributeError",
     "evalue": "'tuple' object has no attribute 'pop'",
     "output_type": "error",
     "traceback": [
      "\u001b[0;31m---------------------------------------------------------------------------\u001b[0m",
      "\u001b[0;31mAttributeError\u001b[0m                            Traceback (most recent call last)",
      "\u001b[0;32m<ipython-input-48-a890342d626c>\u001b[0m in \u001b[0;36m<module>\u001b[0;34m()\u001b[0m\n\u001b[1;32m      1\u001b[0m \u001b[0mx_tupla\u001b[0m \u001b[0;34m=\u001b[0m \u001b[0;34m(\u001b[0m\u001b[0;36m1\u001b[0m\u001b[0;34m,\u001b[0m \u001b[0;36m2\u001b[0m\u001b[0;34m,\u001b[0m \u001b[0;36m3\u001b[0m\u001b[0;34m,\u001b[0m \u001b[0;36m5\u001b[0m\u001b[0;34m,\u001b[0m \u001b[0;34m'ups...'\u001b[0m\u001b[0;34m)\u001b[0m\u001b[0;34m\u001b[0m\u001b[0m\n\u001b[0;32m----> 2\u001b[0;31m \u001b[0mx_tupla\u001b[0m\u001b[0;34m.\u001b[0m\u001b[0mpop\u001b[0m\u001b[0;34m(\u001b[0m\u001b[0;34m-\u001b[0m\u001b[0;36m1\u001b[0m\u001b[0;34m)\u001b[0m\u001b[0;34m\u001b[0m\u001b[0m\n\u001b[0m\u001b[1;32m      3\u001b[0m \u001b[0mx_tupla\u001b[0m\u001b[0;34m.\u001b[0m\u001b[0mpop\u001b[0m\u001b[0;34m(\u001b[0m\u001b[0;34m-\u001b[0m\u001b[0;36m1\u001b[0m\u001b[0;34m)\u001b[0m\u001b[0;34m\u001b[0m\u001b[0m\n\u001b[1;32m      4\u001b[0m \u001b[0mx_tupla\u001b[0m\u001b[0;34m.\u001b[0m\u001b[0mappend\u001b[0m\u001b[0;34m(\u001b[0m\u001b[0;36m4\u001b[0m\u001b[0;34m)\u001b[0m\u001b[0;34m\u001b[0m\u001b[0m\n\u001b[1;32m      5\u001b[0m \u001b[0mprint\u001b[0m\u001b[0;34m(\u001b[0m\u001b[0mx_lista\u001b[0m\u001b[0;34m)\u001b[0m\u001b[0;34m\u001b[0m\u001b[0m\n",
      "\u001b[0;31mAttributeError\u001b[0m: 'tuple' object has no attribute 'pop'"
     ]
    }
   ],
   "source": [
    "x_tupla = (1, 2, 3, 5, 'ups...')\n",
    "x_tupla.pop(-1)\n",
    "x_tupla.pop(-1)\n",
    "x_tupla.append(4)\n",
    "print(x_lista)"
   ]
  },
  {
   "cell_type": "markdown",
   "metadata": {},
   "source": [
    "<blockquote>\n",
    "Los objetos inmutables en python tiene la propiedad <code>__hash__</code> mientas los mutables no.\n",
    "</blockquote>"
   ]
  },
  {
   "cell_type": "code",
   "execution_count": 49,
   "metadata": {},
   "outputs": [
    {
     "data": {
      "text/plain": [
       "-6053343192714027211"
      ]
     },
     "execution_count": 49,
     "metadata": {},
     "output_type": "execute_result"
    }
   ],
   "source": [
    "x_tuple = ('a', 'b', 'c', 'd')\n",
    "x_tuple.__hash__()"
   ]
  },
  {
   "cell_type": "code",
   "execution_count": 50,
   "metadata": {},
   "outputs": [
    {
     "ename": "TypeError",
     "evalue": "'NoneType' object is not callable",
     "output_type": "error",
     "traceback": [
      "\u001b[0;31m---------------------------------------------------------------------------\u001b[0m",
      "\u001b[0;31mTypeError\u001b[0m                                 Traceback (most recent call last)",
      "\u001b[0;32m<ipython-input-50-1f8c29d9b7cb>\u001b[0m in \u001b[0;36m<module>\u001b[0;34m()\u001b[0m\n\u001b[1;32m      1\u001b[0m \u001b[0mx_list\u001b[0m \u001b[0;34m=\u001b[0m \u001b[0;34m[\u001b[0m\u001b[0;34m'a'\u001b[0m\u001b[0;34m,\u001b[0m \u001b[0;34m'b'\u001b[0m\u001b[0;34m,\u001b[0m \u001b[0;34m'c'\u001b[0m\u001b[0;34m,\u001b[0m \u001b[0;34m'd'\u001b[0m\u001b[0;34m]\u001b[0m\u001b[0;34m\u001b[0m\u001b[0m\n\u001b[0;32m----> 2\u001b[0;31m \u001b[0mx_list\u001b[0m\u001b[0;34m.\u001b[0m\u001b[0m__hash__\u001b[0m\u001b[0;34m(\u001b[0m\u001b[0;34m)\u001b[0m\u001b[0;34m\u001b[0m\u001b[0m\n\u001b[0m",
      "\u001b[0;31mTypeError\u001b[0m: 'NoneType' object is not callable"
     ]
    }
   ],
   "source": [
    "x_list = ['a', 'b', 'c', 'd']\n",
    "x_list.__hash__()"
   ]
  },
  {
   "cell_type": "code",
   "execution_count": 51,
   "metadata": {},
   "outputs": [
    {
     "ename": "TypeError",
     "evalue": "'NoneType' object is not callable",
     "output_type": "error",
     "traceback": [
      "\u001b[0;31m---------------------------------------------------------------------------\u001b[0m",
      "\u001b[0;31mTypeError\u001b[0m                                 Traceback (most recent call last)",
      "\u001b[0;32m<ipython-input-51-781b063d0880>\u001b[0m in \u001b[0;36m<module>\u001b[0;34m()\u001b[0m\n\u001b[1;32m      1\u001b[0m \u001b[0mx_set\u001b[0m \u001b[0;34m=\u001b[0m \u001b[0;34m{\u001b[0m\u001b[0;36m1\u001b[0m\u001b[0;34m,\u001b[0m \u001b[0;36m2\u001b[0m\u001b[0;34m,\u001b[0m \u001b[0;36m3\u001b[0m\u001b[0;34m,\u001b[0m \u001b[0;36m4\u001b[0m\u001b[0;34m,\u001b[0m \u001b[0;34m'okay'\u001b[0m\u001b[0;34m}\u001b[0m\u001b[0;34m\u001b[0m\u001b[0m\n\u001b[0;32m----> 2\u001b[0;31m \u001b[0mx_set\u001b[0m\u001b[0;34m.\u001b[0m\u001b[0m__hash__\u001b[0m\u001b[0;34m(\u001b[0m\u001b[0;34m)\u001b[0m\u001b[0;34m\u001b[0m\u001b[0m\n\u001b[0m",
      "\u001b[0;31mTypeError\u001b[0m: 'NoneType' object is not callable"
     ]
    }
   ],
   "source": [
    "x_set = {1, 2, 3, 4, 'okay'}\n",
    "x_set.__hash__()"
   ]
  },
  {
   "cell_type": "markdown",
   "metadata": {},
   "source": [
    "### 1.4. La función `type`"
   ]
  },
  {
   "cell_type": "markdown",
   "metadata": {},
   "source": [
    "La función `type` sirve para averiguar el tipo de dato que tenemos en alguna variable."
   ]
  },
  {
   "cell_type": "markdown",
   "metadata": {},
   "source": [
    "Su sintaxis es:"
   ]
  },
  {
   "cell_type": "markdown",
   "metadata": {},
   "source": [
    "```\n",
    "type(valor_o_variable)\n",
    "```"
   ]
  },
  {
   "cell_type": "markdown",
   "metadata": {},
   "source": [
    "#### Ejemplos"
   ]
  },
  {
   "cell_type": "code",
   "execution_count": 52,
   "metadata": {},
   "outputs": [
    {
     "data": {
      "text/plain": [
       "str"
      ]
     },
     "execution_count": 52,
     "metadata": {},
     "output_type": "execute_result"
    }
   ],
   "source": [
    "# Las cadenas de texto se pueden marcar con las \n",
    "# comillas simples `'` ...\n",
    "type('Hola')"
   ]
  },
  {
   "cell_type": "code",
   "execution_count": 53,
   "metadata": {},
   "outputs": [
    {
     "data": {
      "text/plain": [
       "str"
      ]
     },
     "execution_count": 53,
     "metadata": {},
     "output_type": "execute_result"
    }
   ],
   "source": [
    "# ... o con las comillas dobles `\"`\n",
    "type(\"hola\")"
   ]
  },
  {
   "cell_type": "code",
   "execution_count": 54,
   "metadata": {},
   "outputs": [
    {
     "data": {
      "text/plain": [
       "int"
      ]
     },
     "execution_count": 54,
     "metadata": {},
     "output_type": "execute_result"
    }
   ],
   "source": [
    "type(2)"
   ]
  },
  {
   "cell_type": "code",
   "execution_count": 55,
   "metadata": {},
   "outputs": [
    {
     "data": {
      "text/plain": [
       "float"
      ]
     },
     "execution_count": 55,
     "metadata": {},
     "output_type": "execute_result"
    }
   ],
   "source": [
    "pi = 3.14159216\n",
    "\n",
    "type(pi)"
   ]
  },
  {
   "cell_type": "code",
   "execution_count": 56,
   "metadata": {},
   "outputs": [
    {
     "data": {
      "text/plain": [
       "complex"
      ]
     },
     "execution_count": 56,
     "metadata": {},
     "output_type": "execute_result"
    }
   ],
   "source": [
    "# La unidad imaginaria se indica yuxtaponiendo `j`\n",
    "# al cualquier número\n",
    "z = 5 + 9.1j\n",
    "\n",
    "type(z)"
   ]
  }
 ],
 "metadata": {
  "kernelspec": {
   "display_name": "Python 3",
   "language": "python",
   "name": "python3"
  },
  "language_info": {
   "codemirror_mode": {
    "name": "ipython",
    "version": 3
   },
   "file_extension": ".py",
   "mimetype": "text/x-python",
   "name": "python",
   "nbconvert_exporter": "python",
   "pygments_lexer": "ipython3",
   "version": "3.6.1"
  }
 },
 "nbformat": 4,
 "nbformat_minor": 2
}
