{
 "cells": [
  {
   "cell_type": "markdown",
   "metadata": {},
   "source": [
    "<div class=\"clearfix\" style=\"padding: 10px; padding-left: 0px\">\n",
    "<img src=\"../resources/img/softbutterfly-logo.png\" class=\"pull-left\" style=\"display: block; height: 40px; margin: 0;\"><img src=\"../resources/img/jupyter-logo.png\" class=\"pull-right\"  style=\"display: block; height: 20px; margin-top: 10px;\">\n",
    "</div>"
   ]
  },
  {
   "cell_type": "markdown",
   "metadata": {},
   "source": [
    "<h1>\n",
    "Curso de Python Básico<br/>\n",
    "<small>Con aplicaciones en ciencias e ingeniería</small><br/>\n",
    "<small><small>Clase del 23 de septiembre del 2017</small></small><br/>\n",
    "</h1>"
   ]
  },
  {
   "cell_type": "markdown",
   "metadata": {},
   "source": [
    "<div style=\"text-align:center\">\n",
    "<strong>Martín Josemaría Vuelta Rojas</strong><br/>\n",
    "<code><a href=\"https://github.com/zodiacfireworks\" target=\"_blank\">@zodiacfireworks</a></code><br/>\n",
    "<br/>\n",
    "<em>Universidad Nacional Mayor de San Marcos</em><br/>\n",
    "<span>Facultad de Ciencias Físicas</span><br>\n",
    "<br>\n",
    "<i>SoftButterfly</i><br>\n",
    "<span>Cofundador y Líder del Área de Desarrollo</span>\n",
    "</div>"
   ]
  },
  {
   "cell_type": "markdown",
   "metadata": {},
   "source": [
    "## 1 Instrucciones básicas"
   ]
  },
  {
   "cell_type": "markdown",
   "metadata": {},
   "source": [
    "### 1.1 Hola mundo"
   ]
  },
  {
   "cell_type": "code",
   "execution_count": 4,
   "metadata": {},
   "outputs": [
    {
     "name": "stdout",
     "output_type": "stream",
     "text": [
      "Hola mundo!\n"
     ]
    }
   ],
   "source": [
    "print('Hola mundo!')"
   ]
  },
  {
   "cell_type": "markdown",
   "metadata": {},
   "source": [
    "#### Versión con comentarios y la función `print`"
   ]
  },
  {
   "cell_type": "code",
   "execution_count": 15,
   "metadata": {},
   "outputs": [
    {
     "name": "stdout",
     "output_type": "stream",
     "text": [
      "Hola mundo!\n"
     ]
    }
   ],
   "source": [
    "# Comentarios:\n",
    "# 1. El comentario se marca con el simbolo '#'\n",
    "# 2. La función `print` sirve para imprimir y\n",
    "#    mostrar la salida de los programar\n",
    "#\n",
    "#    La sintaxis es:\n",
    "#        print('cadena de texto')\n",
    "\n",
    "#    Ejemplo: Hola mundo\n",
    "#    >>> print('Hola mundo!')\n",
    "#\n",
    "print('Hola mundo!')"
   ]
  },
  {
   "cell_type": "markdown",
   "metadata": {},
   "source": [
    "### 1.2 ¡Qué el mundo repita lo que digo!"
   ]
  },
  {
   "cell_type": "code",
   "execution_count": 16,
   "metadata": {},
   "outputs": [
    {
     "name": "stdout",
     "output_type": "stream",
     "text": [
      "- ¡Hola humano!\n",
      "!Hola mundo!\n",
      "- !Hola mundo! x2 :v\n"
     ]
    }
   ],
   "source": [
    "greetings = input('- ¡Hola humano!\\n')\n",
    "print('-', greetings, 'x2 :v')"
   ]
  },
  {
   "cell_type": "code",
   "execution_count": 19,
   "metadata": {},
   "outputs": [
    {
     "name": "stdout",
     "output_type": "stream",
     "text": [
      "- ¡Hola humano!\n",
      "¡Hola mundo!\n",
      "- ¡Hola mundo! x2 :v\n"
     ]
    }
   ],
   "source": [
    "# Comentarios:\n",
    "# 1. La función `input` sirve para recibir\n",
    "#    los datos proporcinados por el usuario.\n",
    "#\n",
    "#    La sintaxis es:\n",
    "#        input('prompt')\n",
    "#\n",
    "# 2. La valor retornado por la función `input`\n",
    "#    es la informaciòn ingresada por el usuario.\n",
    "#\n",
    "#    bar = input('prompt')\n",
    "#\n",
    "# 3. La secuencia `\\n` es representa un salto\n",
    "#    de línea, secuencias de ese tipo se\n",
    "#    denominan SECUENCIAS DE ESCAPE\n",
    "#\n",
    "greetings = input('- ¡Hola humano!\\n')\n",
    "print('-', greetings, 'x2 :v')"
   ]
  },
  {
   "cell_type": "markdown",
   "metadata": {},
   "source": [
    "### 1.3 Un primer programa _útil_: El área del círculo"
   ]
  },
  {
   "cell_type": "code",
   "execution_count": 21,
   "metadata": {},
   "outputs": [
    {
     "name": "stdout",
     "output_type": "stream",
     "text": [
      "Ingrese el radio [m]: 5\n",
      "El area es: 78.5398 m^2\n"
     ]
    }
   ],
   "source": [
    "radius = input('Ingrese el radio [m]: ')\n",
    "radius = float(radius)\n",
    "area = 3.141592*radius*radius\n",
    "print('El area es:', area, 'm^2')"
   ]
  },
  {
   "cell_type": "markdown",
   "metadata": {},
   "source": [
    "#### ¿Comentarios?"
   ]
  },
  {
   "cell_type": "code",
   "execution_count": 22,
   "metadata": {},
   "outputs": [
    {
     "name": "stdout",
     "output_type": "stream",
     "text": [
      "Ingrese el radio [m]: 5\n",
      "El area es: 78.5398 m^2\n"
     ]
    }
   ],
   "source": [
    "# 1. Solicitamos el ingreso del radio en metros\n",
    "radius = input('Ingrese el radio [m]: ')\n",
    "\n",
    "# 2. El radio ingresado es interpretado como texto\n",
    "#    y con la función `float` lo convierte a número\n",
    "#    real.\n",
    "radius = float(radius)\n",
    "\n",
    "# 3. Empleamos la formula habitual de pi*r^2\n",
    "area = 3.141592*radius*radius\n",
    "\n",
    "# 4. Imprimimos el resultado :D\n",
    "print('El area es:', area, 'm^2')"
   ]
  },
  {
   "cell_type": "markdown",
   "metadata": {},
   "source": [
    "#### Nota adicional"
   ]
  },
  {
   "cell_type": "markdown",
   "metadata": {},
   "source": [
    "<blockquote>\n",
    "La función `float` permite convertir texto a números reales\n",
    "</blockquote>"
   ]
  },
  {
   "cell_type": "markdown",
   "metadata": {},
   "source": [
    "### 1.4. La función `type`"
   ]
  },
  {
   "cell_type": "markdown",
   "metadata": {},
   "source": [
    "La función `type` sirve para averiguar el tipo de dato que tenemos en alguna variable."
   ]
  },
  {
   "cell_type": "markdown",
   "metadata": {},
   "source": [
    "#### Ejemplos"
   ]
  },
  {
   "cell_type": "code",
   "execution_count": 4,
   "metadata": {},
   "outputs": [
    {
     "data": {
      "text/plain": [
       "str"
      ]
     },
     "execution_count": 4,
     "metadata": {},
     "output_type": "execute_result"
    }
   ],
   "source": [
    "type('Hola')"
   ]
  },
  {
   "cell_type": "code",
   "execution_count": 5,
   "metadata": {},
   "outputs": [
    {
     "data": {
      "text/plain": [
       "str"
      ]
     },
     "execution_count": 5,
     "metadata": {},
     "output_type": "execute_result"
    }
   ],
   "source": [
    "type(\"hola\") "
   ]
  },
  {
   "cell_type": "code",
   "execution_count": 6,
   "metadata": {},
   "outputs": [
    {
     "data": {
      "text/plain": [
       "int"
      ]
     },
     "execution_count": 6,
     "metadata": {},
     "output_type": "execute_result"
    }
   ],
   "source": [
    "type(1)"
   ]
  },
  {
   "cell_type": "code",
   "execution_count": 7,
   "metadata": {},
   "outputs": [
    {
     "data": {
      "text/plain": [
       "float"
      ]
     },
     "execution_count": 7,
     "metadata": {},
     "output_type": "execute_result"
    }
   ],
   "source": [
    "type(1.1)"
   ]
  },
  {
   "cell_type": "code",
   "execution_count": 10,
   "metadata": {},
   "outputs": [
    {
     "data": {
      "text/plain": [
       "complex"
      ]
     },
     "execution_count": 10,
     "metadata": {},
     "output_type": "execute_result"
    }
   ],
   "source": [
    "type(5.1 + 9j)"
   ]
  },
  {
   "cell_type": "markdown",
   "metadata": {},
   "source": [
    "## 2. Variables y tipos de datos"
   ]
  },
  {
   "cell_type": "markdown",
   "metadata": {},
   "source": [
    "### 2.1. Variables"
   ]
  },
  {
   "cell_type": "markdown",
   "metadata": {},
   "source": [
    "Para declarar variables en Python se emplea el operdor de asignación (`=`)"
   ]
  },
  {
   "cell_type": "markdown",
   "metadata": {},
   "source": [
    "#### Ejemplos"
   ]
  },
  {
   "cell_type": "code",
   "execution_count": 12,
   "metadata": {},
   "outputs": [
    {
     "name": "stdout",
     "output_type": "stream",
     "text": [
      "<class 'str'> : Hola mamá\n"
     ]
    }
   ],
   "source": [
    "x = 'Hola mamá'\n",
    "\n",
    "print(type(x), ':', x)"
   ]
  },
  {
   "cell_type": "code",
   "execution_count": 13,
   "metadata": {},
   "outputs": [
    {
     "name": "stdout",
     "output_type": "stream",
     "text": [
      "<class 'complex'> : (5+3j)\n"
     ]
    }
   ],
   "source": [
    "x = 5 + 3j \n",
    "\n",
    "print(type(x), ':', x)"
   ]
  },
  {
   "cell_type": "code",
   "execution_count": 14,
   "metadata": {},
   "outputs": [
    {
     "name": "stdout",
     "output_type": "stream",
     "text": [
      "<class 'type'> : <class 'type'>\n"
     ]
    }
   ],
   "source": [
    "x = type\n",
    "\n",
    "print(type(x), ':', x)"
   ]
  },
  {
   "cell_type": "code",
   "execution_count": 15,
   "metadata": {},
   "outputs": [
    {
     "name": "stdout",
     "output_type": "stream",
     "text": [
      "<class 'builtin_function_or_method'> : <built-in function print>\n"
     ]
    }
   ],
   "source": [
    "x = print\n",
    "\n",
    "print(type(x), ':', x)"
   ]
  },
  {
   "cell_type": "code",
   "execution_count": 16,
   "metadata": {},
   "outputs": [
    {
     "name": "stdout",
     "output_type": "stream",
     "text": [
      "<class 'method'> : <bound method Kernel.raw_input of <ipykernel.ipkernel.IPythonKernel object at 0x7f175bb65240>>\n"
     ]
    }
   ],
   "source": [
    "x = input\n",
    "\n",
    "print(type(x), ':', x)"
   ]
  },
  {
   "cell_type": "markdown",
   "metadata": {},
   "source": [
    "### 2.2. Tipos de datos"
   ]
  },
  {
   "cell_type": "markdown",
   "metadata": {},
   "source": [
    "#### 2.2.1. Booleanos"
   ]
  },
  {
   "cell_type": "code",
   "execution_count": 19,
   "metadata": {},
   "outputs": [
    {
     "name": "stdout",
     "output_type": "stream",
     "text": [
      "<class 'bool'> , <class 'bool'>\n"
     ]
    }
   ],
   "source": [
    "x = True\n",
    "y = False\n",
    "\n",
    "print(type(x), ',', type(y))"
   ]
  },
  {
   "cell_type": "code",
   "execution_count": 22,
   "metadata": {},
   "outputs": [
    {
     "data": {
      "text/plain": [
       "(True, True, True)"
      ]
     },
     "execution_count": 22,
     "metadata": {},
     "output_type": "execute_result"
    }
   ],
   "source": [
    "import this\n",
    "\n",
    "love = this\n",
    "\n",
    "this is love, love is not True or False, love is love #."
   ]
  },
  {
   "cell_type": "markdown",
   "metadata": {},
   "source": [
    "#### 2.2.2. Listas"
   ]
  },
  {
   "cell_type": "code",
   "execution_count": 2,
   "metadata": {},
   "outputs": [
    {
     "name": "stdout",
     "output_type": "stream",
     "text": [
      "<class 'list'>\n"
     ]
    }
   ],
   "source": [
    "x = [1, 2, 3, 5, 'ups...']\n",
    "\n",
    "print(type(x))"
   ]
  },
  {
   "cell_type": "code",
   "execution_count": 4,
   "metadata": {},
   "outputs": [
    {
     "name": "stdout",
     "output_type": "stream",
     "text": [
      "1kg de papa\n",
      "2 tomates\n",
      "1 zanahoria grande\n",
      "Hongos y laurel\n",
      "Fideos\n"
     ]
    }
   ],
   "source": [
    "for el in ['1kg de papa', '2 tomates', '1 zanahoria grande', 'Hongos y laurel', 'Fideos']:\n",
    "    print(el)"
   ]
  },
  {
   "cell_type": "markdown",
   "metadata": {},
   "source": [
    "#### 2.2.3. Tuplas"
   ]
  },
  {
   "cell_type": "code",
   "execution_count": 5,
   "metadata": {},
   "outputs": [
    {
     "name": "stdout",
     "output_type": "stream",
     "text": [
      "<class 'tuple'>\n"
     ]
    }
   ],
   "source": [
    "x = (1, 2, 3, 5, 'ups...')\n",
    "\n",
    "print(type(x))"
   ]
  },
  {
   "cell_type": "markdown",
   "metadata": {},
   "source": [
    "El verdadero contrcutor de la tupla es la coma (`,`)"
   ]
  },
  {
   "cell_type": "code",
   "execution_count": 18,
   "metadata": {},
   "outputs": [
    {
     "name": "stdout",
     "output_type": "stream",
     "text": [
      "<class 'tuple'>\n"
     ]
    }
   ],
   "source": [
    "y = 'only one',\n",
    "\n",
    "print(type(y))"
   ]
  },
  {
   "cell_type": "markdown",
   "metadata": {},
   "source": [
    "#### 2.2.X. Listas vs Tuplas"
   ]
  },
  {
   "cell_type": "markdown",
   "metadata": {},
   "source": [
    "Las listas son objetos mutables, es decir, su longitud puede variar permitiéndonos insertar y eliminar nuevoas elementos. Las tuplas por el contrario son objetos inmutables: una vez definidas no podemos añadir ni quitar elementos."
   ]
  },
  {
   "cell_type": "code",
   "execution_count": 6,
   "metadata": {},
   "outputs": [
    {
     "name": "stdout",
     "output_type": "stream",
     "text": [
      "[1, 2, 3, 4]\n"
     ]
    }
   ],
   "source": [
    "x_lista = [1, 2, 3, 5, 'ups...']\n",
    "x_lista.pop(-1)\n",
    "x_lista.pop(-1)\n",
    "x_lista.append(4)\n",
    "print(x_lista)"
   ]
  },
  {
   "cell_type": "code",
   "execution_count": 7,
   "metadata": {},
   "outputs": [
    {
     "ename": "AttributeError",
     "evalue": "'tuple' object has no attribute 'pop'",
     "output_type": "error",
     "traceback": [
      "\u001b[0;31m-------------------------------------------------------------------------\u001b[0m",
      "\u001b[0;31mAttributeError\u001b[0m                          Traceback (most recent call last)",
      "\u001b[0;32m<ipython-input-7-a890342d626c>\u001b[0m in \u001b[0;36m<module>\u001b[0;34m()\u001b[0m\n\u001b[1;32m      1\u001b[0m \u001b[0mx_tupla\u001b[0m \u001b[0;34m=\u001b[0m \u001b[0;34m(\u001b[0m\u001b[0;36m1\u001b[0m\u001b[0;34m,\u001b[0m \u001b[0;36m2\u001b[0m\u001b[0;34m,\u001b[0m \u001b[0;36m3\u001b[0m\u001b[0;34m,\u001b[0m \u001b[0;36m5\u001b[0m\u001b[0;34m,\u001b[0m \u001b[0;34m'ups...'\u001b[0m\u001b[0;34m)\u001b[0m\u001b[0;34m\u001b[0m\u001b[0m\n\u001b[0;32m----> 2\u001b[0;31m \u001b[0mx_tupla\u001b[0m\u001b[0;34m.\u001b[0m\u001b[0mpop\u001b[0m\u001b[0;34m(\u001b[0m\u001b[0;34m-\u001b[0m\u001b[0;36m1\u001b[0m\u001b[0;34m)\u001b[0m\u001b[0;34m\u001b[0m\u001b[0m\n\u001b[0m\u001b[1;32m      3\u001b[0m \u001b[0mx_tupla\u001b[0m\u001b[0;34m.\u001b[0m\u001b[0mpop\u001b[0m\u001b[0;34m(\u001b[0m\u001b[0;34m-\u001b[0m\u001b[0;36m1\u001b[0m\u001b[0;34m)\u001b[0m\u001b[0;34m\u001b[0m\u001b[0m\n\u001b[1;32m      4\u001b[0m \u001b[0mx_tupla\u001b[0m\u001b[0;34m.\u001b[0m\u001b[0mappend\u001b[0m\u001b[0;34m(\u001b[0m\u001b[0;36m4\u001b[0m\u001b[0;34m)\u001b[0m\u001b[0;34m\u001b[0m\u001b[0m\n\u001b[1;32m      5\u001b[0m \u001b[0mprint\u001b[0m\u001b[0;34m(\u001b[0m\u001b[0mx_lista\u001b[0m\u001b[0;34m)\u001b[0m\u001b[0;34m\u001b[0m\u001b[0m\n",
      "\u001b[0;31mAttributeError\u001b[0m: 'tuple' object has no attribute 'pop'"
     ]
    }
   ],
   "source": [
    "x_tupla = (1, 2, 3, 5, 'ups...')\n",
    "x_tupla.pop(-1)\n",
    "x_tupla.pop(-1)\n",
    "x_tupla.append(4)\n",
    "print(x_lista)"
   ]
  },
  {
   "cell_type": "markdown",
   "metadata": {},
   "source": [
    "Los objetos inmutables en python tiene la propiedad `__hash__` mientas los mutables no."
   ]
  },
  {
   "cell_type": "code",
   "execution_count": 14,
   "metadata": {},
   "outputs": [
    {
     "data": {
      "text/plain": [
       "-5903548563572218064"
      ]
     },
     "execution_count": 14,
     "metadata": {},
     "output_type": "execute_result"
    }
   ],
   "source": [
    "x_tuple = ('a', 'b', 'c', 'd')\n",
    "x_tuple.__hash__()"
   ]
  },
  {
   "cell_type": "code",
   "execution_count": 16,
   "metadata": {},
   "outputs": [
    {
     "ename": "TypeError",
     "evalue": "'NoneType' object is not callable",
     "output_type": "error",
     "traceback": [
      "\u001b[0;31m-------------------------------------------------------------------------\u001b[0m",
      "\u001b[0;31mTypeError\u001b[0m                               Traceback (most recent call last)",
      "\u001b[0;32m<ipython-input-16-1f8c29d9b7cb>\u001b[0m in \u001b[0;36m<module>\u001b[0;34m()\u001b[0m\n\u001b[1;32m      1\u001b[0m \u001b[0mx_list\u001b[0m \u001b[0;34m=\u001b[0m \u001b[0;34m[\u001b[0m\u001b[0;34m'a'\u001b[0m\u001b[0;34m,\u001b[0m \u001b[0;34m'b'\u001b[0m\u001b[0;34m,\u001b[0m \u001b[0;34m'c'\u001b[0m\u001b[0;34m,\u001b[0m \u001b[0;34m'd'\u001b[0m\u001b[0;34m]\u001b[0m\u001b[0;34m\u001b[0m\u001b[0m\n\u001b[0;32m----> 2\u001b[0;31m \u001b[0mx_list\u001b[0m\u001b[0;34m.\u001b[0m\u001b[0m__hash__\u001b[0m\u001b[0;34m(\u001b[0m\u001b[0;34m)\u001b[0m\u001b[0;34m\u001b[0m\u001b[0m\n\u001b[0m",
      "\u001b[0;31mTypeError\u001b[0m: 'NoneType' object is not callable"
     ]
    }
   ],
   "source": [
    "x_list = ['a', 'b', 'c', 'd']\n",
    "x_list.__hash__()"
   ]
  },
  {
   "cell_type": "markdown",
   "metadata": {},
   "source": [
    "#### 2.2.4. Conjuntos"
   ]
  },
  {
   "cell_type": "code",
   "execution_count": 19,
   "metadata": {},
   "outputs": [
    {
     "name": "stdout",
     "output_type": "stream",
     "text": [
      "<class 'set'>\n"
     ]
    }
   ],
   "source": [
    "x = {1, 2, 3, 4, 'okay'}\n",
    "\n",
    "print(type(x))"
   ]
  },
  {
   "cell_type": "markdown",
   "metadata": {},
   "source": [
    "Los elementos de un conjunto jamás se repiten"
   ]
  },
  {
   "cell_type": "code",
   "execution_count": 22,
   "metadata": {},
   "outputs": [
    {
     "name": "stdout",
     "output_type": "stream",
     "text": [
      "{1, 2, 3, 4, 'okay'}\n",
      "{1, 2, 3, 4, 'double one'}\n"
     ]
    }
   ],
   "source": [
    "x = {1, 2, 3, 4, 'okay'}\n",
    "y = {1, 1, 2, 2, 3, 4, 'double one'}\n",
    "\n",
    "print(x)\n",
    "print(y)"
   ]
  },
  {
   "cell_type": "code",
   "execution_count": 25,
   "metadata": {},
   "outputs": [
    {
     "ename": "TypeError",
     "evalue": "'NoneType' object is not callable",
     "output_type": "error",
     "traceback": [
      "\u001b[0;31m-------------------------------------------------------------------------\u001b[0m",
      "\u001b[0;31mTypeError\u001b[0m                               Traceback (most recent call last)",
      "\u001b[0;32m<ipython-input-25-781b063d0880>\u001b[0m in \u001b[0;36m<module>\u001b[0;34m()\u001b[0m\n\u001b[1;32m      1\u001b[0m \u001b[0mx_set\u001b[0m \u001b[0;34m=\u001b[0m \u001b[0;34m{\u001b[0m\u001b[0;36m1\u001b[0m\u001b[0;34m,\u001b[0m \u001b[0;36m2\u001b[0m\u001b[0;34m,\u001b[0m \u001b[0;36m3\u001b[0m\u001b[0;34m,\u001b[0m \u001b[0;36m4\u001b[0m\u001b[0;34m,\u001b[0m \u001b[0;34m'okay'\u001b[0m\u001b[0;34m}\u001b[0m\u001b[0;34m\u001b[0m\u001b[0m\n\u001b[0;32m----> 2\u001b[0;31m \u001b[0mx_set\u001b[0m\u001b[0;34m.\u001b[0m\u001b[0m__hash__\u001b[0m\u001b[0;34m(\u001b[0m\u001b[0;34m)\u001b[0m\u001b[0;34m\u001b[0m\u001b[0m\n\u001b[0m",
      "\u001b[0;31mTypeError\u001b[0m: 'NoneType' object is not callable"
     ]
    }
   ],
   "source": [
    "x_set = {1, 2, 3, 4, 'okay'}\n",
    "x_set.__hash__()"
   ]
  },
  {
   "cell_type": "markdown",
   "metadata": {},
   "source": [
    "#### 2.2.5. La nada: `None`"
   ]
  },
  {
   "cell_type": "code",
   "execution_count": 26,
   "metadata": {},
   "outputs": [
    {
     "name": "stdout",
     "output_type": "stream",
     "text": [
      "<class 'NoneType'>\n"
     ]
    }
   ],
   "source": [
    "x = None\n",
    "\n",
    "print(type(x))"
   ]
  },
  {
   "cell_type": "markdown",
   "metadata": {},
   "source": [
    "### 2.2.6."
   ]
  },
  {
   "cell_type": "code",
   "execution_count": 28,
   "metadata": {},
   "outputs": [
    {
     "name": "stdout",
     "output_type": "stream",
     "text": [
      "<class 'dict'>\n"
     ]
    }
   ],
   "source": [
    "person = {\n",
    "    'Name': 'Johana',\n",
    "    'Lastname': 'Gonzales',\n",
    "    'Facultad': 'Sociales'\n",
    "}\n",
    "\n",
    "print(type(person))"
   ]
  },
  {
   "cell_type": "code",
   "execution_count": 30,
   "metadata": {},
   "outputs": [
    {
     "name": "stdout",
     "output_type": "stream",
     "text": [
      "<class 'dict'>\n"
     ]
    }
   ],
   "source": [
    "city = {\n",
    "    'Name': 'Lima',\n",
    "    'Foundation': {\n",
    "        'year': 1535,\n",
    "        'mes': 1,\n",
    "        'date': 18,\n",
    "    },\n",
    "    'Lat': 'S12°2\\'35.45\"',\n",
    "    'Lon': 'O77°1\\'41.66\"'\n",
    "}\n",
    "\n",
    "print(type(city))"
   ]
  },
  {
   "cell_type": "code",
   "execution_count": 39,
   "metadata": {},
   "outputs": [
    {
     "name": "stdout",
     "output_type": "stream",
     "text": [
      "<class 'dict'> {'id': 1, 'name': 'bulbasaur', 'base_experience': 64, 'height': 7, 'is_default': True, 'order': 1, 'weight': 69, 'abilities': [{'is_hidden': True, 'slot': 3, 'ability': {'name': 'chlorophyll', 'url': 'http://pokeapi.co/api/v2/ability/34/'}}], 'forms': [{'name': 'bulbasaur', 'url': 'http://pokeapi.co/api/v2/pokemon-form/1/'}], 'game_indices': [{'game_index': 1, 'version': {'name': 'white-2', 'url': 'http://pokeapi.co/api/v2/version/22/'}}], 'held_items': [], 'location_area_encounters': [], 'moves': [{'move': {'name': 'captivate', 'url': 'http://pokeapi.co/api/v2/move/445/'}, 'version_group_details': [{'level_learned_at': 0, 'version_group': {'name': 'heartgold-soulsilver', 'url': 'http://pokeapi.co/api/v2/version-group/10/'}, 'move_learn_method': {'name': 'machine', 'url': 'http://pokeapi.co/api/v2/move-learn-method/4/'}}, {'level_learned_at': 0, 'version_group': {'name': 'platinum', 'url': 'http://pokeapi.co/api/v2/version-group/9/'}, 'move_learn_method': {'name': 'machine', 'url': 'http://pokeapi.co/api/v2/move-learn-method/4/'}}, {'level_learned_at': 0, 'version_group': {'name': 'diamond-pearl', 'url': 'http://pokeapi.co/api/v2/version-group/8/'}, 'move_learn_method': {'name': 'machine', 'url': 'http://pokeapi.co/api/v2/move-learn-method/4/'}}]}], 'species': {'name': 'bulbasaur', 'url': 'http://pokeapi.co/api/v2/pokemon-species/1/'}, 'stats': [{'base_stat': 45, 'effort': 0, 'stat': {'name': 'speed', 'url': 'http://pokeapi.co/api/v2/stat/6/'}}], 'types': [{'slot': 2, 'type': {'name': 'poison', 'url': 'http://pokeapi.co/api/v2/type/4/'}}]}\n"
     ]
    }
   ],
   "source": [
    "import json\n",
    "\n",
    "response_text = \"\"\"\n",
    "{\n",
    "    \"id\": 1,\n",
    "    \"name\": \"bulbasaur\",\n",
    "    \"base_experience\": 64,\n",
    "    \"height\": 7,\n",
    "    \"is_default\": true,\n",
    "    \"order\": 1,\n",
    "    \"weight\": 69,\n",
    "    \"abilities\": [\n",
    "        {\n",
    "            \"is_hidden\": true,\n",
    "            \"slot\": 3,\n",
    "            \"ability\": {\n",
    "                \"name\": \"chlorophyll\",\n",
    "                \"url\": \"http://pokeapi.co/api/v2/ability/34/\"\n",
    "            }\n",
    "        }\n",
    "    ],\n",
    "    \"forms\": [\n",
    "        {\n",
    "            \"name\": \"bulbasaur\",\n",
    "            \"url\": \"http://pokeapi.co/api/v2/pokemon-form/1/\"\n",
    "        }\n",
    "    ],\n",
    "    \"game_indices\": [\n",
    "        {\n",
    "            \"game_index\": 1,\n",
    "            \"version\": {\n",
    "                \"name\": \"white-2\",\n",
    "                \"url\": \"http://pokeapi.co/api/v2/version/22/\"\n",
    "            }\n",
    "        }\n",
    "    ],\n",
    "    \"held_items\": [],\n",
    "    \"location_area_encounters\": [],\n",
    "    \"moves\": [\n",
    "        {\n",
    "            \"move\": {\n",
    "                \"name\": \"captivate\",\n",
    "                \"url\": \"http://pokeapi.co/api/v2/move/445/\"\n",
    "            },\n",
    "            \"version_group_details\": [\n",
    "                {\n",
    "                    \"level_learned_at\": 0,\n",
    "                    \"version_group\": {\n",
    "                        \"name\": \"heartgold-soulsilver\",\n",
    "                        \"url\": \"http://pokeapi.co/api/v2/version-group/10/\"\n",
    "                    },\n",
    "                    \"move_learn_method\": {\n",
    "                        \"name\": \"machine\",\n",
    "                        \"url\": \"http://pokeapi.co/api/v2/move-learn-method/4/\"\n",
    "                    }\n",
    "                },\n",
    "                {\n",
    "                    \"level_learned_at\": 0,\n",
    "                    \"version_group\": {\n",
    "                        \"name\": \"platinum\",\n",
    "                        \"url\": \"http://pokeapi.co/api/v2/version-group/9/\"\n",
    "                    },\n",
    "                    \"move_learn_method\": {\n",
    "                        \"name\": \"machine\",\n",
    "                        \"url\": \"http://pokeapi.co/api/v2/move-learn-method/4/\"\n",
    "                    }\n",
    "                },\n",
    "                {\n",
    "                    \"level_learned_at\": 0,\n",
    "                    \"version_group\": {\n",
    "                        \"name\": \"diamond-pearl\",\n",
    "                        \"url\": \"http://pokeapi.co/api/v2/version-group/8/\"\n",
    "                    },\n",
    "                    \"move_learn_method\": {\n",
    "                        \"name\": \"machine\",\n",
    "                        \"url\": \"http://pokeapi.co/api/v2/move-learn-method/4/\"\n",
    "                    }\n",
    "                }\n",
    "            ]\n",
    "        }\n",
    "    ],\n",
    "    \"species\": {\n",
    "        \"name\": \"bulbasaur\",\n",
    "        \"url\": \"http://pokeapi.co/api/v2/pokemon-species/1/\"\n",
    "    },\n",
    "    \"stats\": [\n",
    "        {\n",
    "            \"base_stat\": 45,\n",
    "            \"effort\": 0,\n",
    "            \"stat\": {\n",
    "                \"name\": \"speed\",\n",
    "                \"url\": \"http://pokeapi.co/api/v2/stat/6/\"\n",
    "            }\n",
    "        }\n",
    "    ],\n",
    "    \"types\": [\n",
    "        {\n",
    "            \"slot\": 2,\n",
    "            \"type\": {\n",
    "                \"name\": \"poison\",\n",
    "                \"url\": \"http://pokeapi.co/api/v2/type/4/\"\n",
    "            }\n",
    "        }\n",
    "    ]\n",
    "}\n",
    "\"\"\"\n",
    "\n",
    "bulbasaur = json.loads(response_text)\n",
    "\n",
    "print(type(bulbasaur), bulbasaur)"
   ]
  },
  {
   "cell_type": "code",
   "execution_count": 44,
   "metadata": {},
   "outputs": [
    {
     "data": {
      "text/plain": [
       "{'name': 'chlorophyll', 'url': 'http://pokeapi.co/api/v2/ability/34/'}"
      ]
     },
     "execution_count": 44,
     "metadata": {},
     "output_type": "execute_result"
    }
   ],
   "source": [
    "abilities = bulbasaur['abilities']\n",
    "ability_one = bulbasaur['abilities'][0]['ability']\n",
    "ability_one"
   ]
  },
  {
   "cell_type": "markdown",
   "metadata": {},
   "source": [
    "#### 2.2.4. Conjuntos"
   ]
  },
  {
   "cell_type": "code",
   "execution_count": null,
   "metadata": {
    "collapsed": true
   },
   "outputs": [],
   "source": []
  }
 ],
 "metadata": {
  "kernelspec": {
   "display_name": "Python 3",
   "language": "python",
   "name": "python3"
  },
  "language_info": {
   "codemirror_mode": {
    "name": "ipython",
    "version": 3
   },
   "file_extension": ".py",
   "mimetype": "text/x-python",
   "name": "python",
   "nbconvert_exporter": "python",
   "pygments_lexer": "ipython3",
   "version": "3.6.1"
  }
 },
 "nbformat": 4,
 "nbformat_minor": 2
}
